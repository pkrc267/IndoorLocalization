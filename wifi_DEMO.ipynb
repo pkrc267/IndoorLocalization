{
  "nbformat": 4,
  "nbformat_minor": 0,
  "metadata": {
    "kernelspec": {
      "language": "python",
      "display_name": "Python 3",
      "name": "python3"
    },
    "language_info": {
      "pygments_lexer": "ipython3",
      "nbconvert_exporter": "python",
      "version": "3.6.4",
      "file_extension": ".py",
      "codemirror_mode": {
        "name": "ipython",
        "version": 3
      },
      "name": "python",
      "mimetype": "text/x-python"
    },
    "colab": {
      "name": "wifi-DEMO.ipynb",
      "provenance": [],
      "collapsed_sections": [],
      "include_colab_link": true
    }
  },
  "cells": [
    {
      "cell_type": "markdown",
      "metadata": {
        "id": "view-in-github",
        "colab_type": "text"
      },
      "source": [
        "<a href=\"https://colab.research.google.com/github/pkrc267/IndoorLocalization/blob/master/wifi_DEMO.ipynb\" target=\"_parent\"><img src=\"https://colab.research.google.com/assets/colab-badge.svg\" alt=\"Open In Colab\"/></a>"
      ]
    },
    {
      "cell_type": "code",
      "metadata": {
        "colab_type": "code",
        "id": "xSZc2mZYQ3dc",
        "outputId": "4b480371-66dd-4a0b-9614-db82a7bfc3b6",
        "colab": {
          "base_uri": "https://localhost:8080/",
          "height": 122
        }
      },
      "source": [
        "from google.colab import drive\n",
        "drive.mount('/content/drive')"
      ],
      "execution_count": 1,
      "outputs": [
        {
          "output_type": "stream",
          "text": [
            "Go to this URL in a browser: https://accounts.google.com/o/oauth2/auth?client_id=947318989803-6bn6qk8qdgf4n4g3pfee6491hc0brc4i.apps.googleusercontent.com&redirect_uri=urn%3aietf%3awg%3aoauth%3a2.0%3aoob&response_type=code&scope=email%20https%3a%2f%2fwww.googleapis.com%2fauth%2fdocs.test%20https%3a%2f%2fwww.googleapis.com%2fauth%2fdrive%20https%3a%2f%2fwww.googleapis.com%2fauth%2fdrive.photos.readonly%20https%3a%2f%2fwww.googleapis.com%2fauth%2fpeopleapi.readonly\n",
            "\n",
            "Enter your authorization code:\n",
            "··········\n",
            "Mounted at /content/drive\n"
          ],
          "name": "stdout"
        }
      ]
    },
    {
      "cell_type": "code",
      "metadata": {
        "trusted": true,
        "id": "cWOKBfqzhw7f",
        "colab_type": "code",
        "colab": {}
      },
      "source": [
        "# This Python 3 environment comes with many helpful analytics libraries installed\n",
        "# It is defined by the kaggle/python docker image: https://github.com/kaggle/docker-python\n",
        "# For example, here's several helpful packages to load in \n",
        "from sklearn.cluster import KMeans\n",
        "import numpy as np # linear algebra\n",
        "import pandas as pd # data processing, CSV file I/O (e.g. pd.read_csv)\n",
        "import matplotlib.pyplot as plt\n",
        "import seaborn as sns"
      ],
      "execution_count": 0,
      "outputs": []
    },
    {
      "cell_type": "markdown",
      "metadata": {
        "id": "vrTnXslJ1SpO",
        "colab_type": "text"
      },
      "source": [
        "### Read data and change Address column value"
      ]
    },
    {
      "cell_type": "code",
      "metadata": {
        "id": "Tei5O7j31R8f",
        "colab_type": "code",
        "colab": {}
      },
      "source": [
        "frame = pd.read_csv(\"/content/drive/My Drive/rssiDblock.csv\")"
      ],
      "execution_count": 0,
      "outputs": []
    },
    {
      "cell_type": "code",
      "metadata": {
        "id": "dKKHELZz2qC_",
        "colab_type": "code",
        "outputId": "a9c3128e-4f2c-494b-eeea-d5f19636c951",
        "colab": {
          "base_uri": "https://localhost:8080/",
          "height": 306
        }
      },
      "source": [
        "frame.head()"
      ],
      "execution_count": 40,
      "outputs": [
        {
          "output_type": "execute_result",
          "data": {
            "text/html": [
              "<div>\n",
              "<style scoped>\n",
              "    .dataframe tbody tr th:only-of-type {\n",
              "        vertical-align: middle;\n",
              "    }\n",
              "\n",
              "    .dataframe tbody tr th {\n",
              "        vertical-align: top;\n",
              "    }\n",
              "\n",
              "    .dataframe thead th {\n",
              "        text-align: right;\n",
              "    }\n",
              "</style>\n",
              "<table border=\"1\" class=\"dataframe\">\n",
              "  <thead>\n",
              "    <tr style=\"text-align: right;\">\n",
              "      <th></th>\n",
              "      <th>Name</th>\n",
              "      <th>Address</th>\n",
              "      <th>Company</th>\n",
              "      <th>Signal Level</th>\n",
              "      <th>Frequency</th>\n",
              "      <th>Channel</th>\n",
              "      <th>Security</th>\n",
              "      <th>Cipher</th>\n",
              "      <th>BSS Type</th>\n",
              "      <th>WPS Support</th>\n",
              "      <th>Time</th>\n",
              "      <th>Longitude</th>\n",
              "      <th>Latitude</th>\n",
              "      <th>X</th>\n",
              "      <th>Y</th>\n",
              "      <th>Z</th>\n",
              "    </tr>\n",
              "  </thead>\n",
              "  <tbody>\n",
              "    <tr>\n",
              "      <th>0</th>\n",
              "      <td>BPGC-NAB</td>\n",
              "      <td>70:EA:1A:22:8F:E0</td>\n",
              "      <td>Cisco Systems, Inc</td>\n",
              "      <td>-41</td>\n",
              "      <td>2437</td>\n",
              "      <td>6</td>\n",
              "      <td>None</td>\n",
              "      <td>None</td>\n",
              "      <td>Infrastructure</td>\n",
              "      <td>No</td>\n",
              "      <td>12/02/2020 23:28:27</td>\n",
              "      <td>NaN</td>\n",
              "      <td>NaN</td>\n",
              "      <td>0</td>\n",
              "      <td>6</td>\n",
              "      <td>0</td>\n",
              "    </tr>\n",
              "    <tr>\n",
              "      <th>1</th>\n",
              "      <td>BPGC-NAB</td>\n",
              "      <td>08:4F:A9:10:4B:80</td>\n",
              "      <td>NaN</td>\n",
              "      <td>-49</td>\n",
              "      <td>2462</td>\n",
              "      <td>11</td>\n",
              "      <td>None</td>\n",
              "      <td>None</td>\n",
              "      <td>Infrastructure</td>\n",
              "      <td>No</td>\n",
              "      <td>12/02/2020 23:28:27</td>\n",
              "      <td>NaN</td>\n",
              "      <td>NaN</td>\n",
              "      <td>0</td>\n",
              "      <td>6</td>\n",
              "      <td>0</td>\n",
              "    </tr>\n",
              "    <tr>\n",
              "      <th>2</th>\n",
              "      <td>BPGC-NAB</td>\n",
              "      <td>00:A3:8E:60:F2:A0</td>\n",
              "      <td>Cisco Systems, Inc</td>\n",
              "      <td>-72</td>\n",
              "      <td>2462</td>\n",
              "      <td>11</td>\n",
              "      <td>None</td>\n",
              "      <td>None</td>\n",
              "      <td>Infrastructure</td>\n",
              "      <td>No</td>\n",
              "      <td>12/02/2020 23:28:33</td>\n",
              "      <td>NaN</td>\n",
              "      <td>NaN</td>\n",
              "      <td>0</td>\n",
              "      <td>6</td>\n",
              "      <td>0</td>\n",
              "    </tr>\n",
              "    <tr>\n",
              "      <th>3</th>\n",
              "      <td>BPGC-WIFI</td>\n",
              "      <td>40:01:7A:B1:00:40</td>\n",
              "      <td>Cisco Systems, Inc</td>\n",
              "      <td>-70</td>\n",
              "      <td>2462</td>\n",
              "      <td>11</td>\n",
              "      <td>None</td>\n",
              "      <td>None</td>\n",
              "      <td>Infrastructure</td>\n",
              "      <td>No</td>\n",
              "      <td>12/02/2020 23:26:38</td>\n",
              "      <td>NaN</td>\n",
              "      <td>NaN</td>\n",
              "      <td>0</td>\n",
              "      <td>6</td>\n",
              "      <td>0</td>\n",
              "    </tr>\n",
              "    <tr>\n",
              "      <th>4</th>\n",
              "      <td>BPGC-NAB</td>\n",
              "      <td>70:EA:1A:22:A9:A0</td>\n",
              "      <td>Cisco Systems, Inc</td>\n",
              "      <td>-66</td>\n",
              "      <td>2437</td>\n",
              "      <td>6</td>\n",
              "      <td>None</td>\n",
              "      <td>None</td>\n",
              "      <td>Infrastructure</td>\n",
              "      <td>No</td>\n",
              "      <td>12/02/2020 23:30:27</td>\n",
              "      <td>NaN</td>\n",
              "      <td>NaN</td>\n",
              "      <td>0</td>\n",
              "      <td>6</td>\n",
              "      <td>0</td>\n",
              "    </tr>\n",
              "  </tbody>\n",
              "</table>\n",
              "</div>"
            ],
            "text/plain": [
              "        Name            Address             Company  ...  X  Y  Z\n",
              "0   BPGC-NAB  70:EA:1A:22:8F:E0  Cisco Systems, Inc  ...  0  6  0\n",
              "1   BPGC-NAB  08:4F:A9:10:4B:80                 NaN  ...  0  6  0\n",
              "2   BPGC-NAB  00:A3:8E:60:F2:A0  Cisco Systems, Inc  ...  0  6  0\n",
              "3  BPGC-WIFI  40:01:7A:B1:00:40  Cisco Systems, Inc  ...  0  6  0\n",
              "4   BPGC-NAB  70:EA:1A:22:A9:A0  Cisco Systems, Inc  ...  0  6  0\n",
              "\n",
              "[5 rows x 16 columns]"
            ]
          },
          "metadata": {
            "tags": []
          },
          "execution_count": 40
        }
      ]
    },
    {
      "cell_type": "markdown",
      "metadata": {
        "id": "NOiHZUNu2G_4",
        "colab_type": "text"
      },
      "source": [
        "function for modifying the **'Address'** field to integer"
      ]
    },
    {
      "cell_type": "code",
      "metadata": {
        "id": "Z52IuMp_2GfJ",
        "colab_type": "code",
        "colab": {}
      },
      "source": [
        "def macToHex(address):\n",
        "  mac_int = int(address.translate(str.maketrans(\"\",\"\", \":.- \")), 16)\n",
        "  return mac_int"
      ],
      "execution_count": 0,
      "outputs": []
    },
    {
      "cell_type": "code",
      "metadata": {
        "id": "QsqhkVEx31n7",
        "colab_type": "code",
        "colab": {}
      },
      "source": [
        "frame['MAC'] = frame['Address'].apply(macToHex)"
      ],
      "execution_count": 0,
      "outputs": []
    },
    {
      "cell_type": "code",
      "metadata": {
        "id": "36ZEHQfM5NwX",
        "colab_type": "code",
        "outputId": "a57f75e5-1723-4000-8a36-2c024f613781",
        "colab": {
          "base_uri": "https://localhost:8080/",
          "height": 374
        }
      },
      "source": [
        "frame.head()"
      ],
      "execution_count": 43,
      "outputs": [
        {
          "output_type": "execute_result",
          "data": {
            "text/html": [
              "<div>\n",
              "<style scoped>\n",
              "    .dataframe tbody tr th:only-of-type {\n",
              "        vertical-align: middle;\n",
              "    }\n",
              "\n",
              "    .dataframe tbody tr th {\n",
              "        vertical-align: top;\n",
              "    }\n",
              "\n",
              "    .dataframe thead th {\n",
              "        text-align: right;\n",
              "    }\n",
              "</style>\n",
              "<table border=\"1\" class=\"dataframe\">\n",
              "  <thead>\n",
              "    <tr style=\"text-align: right;\">\n",
              "      <th></th>\n",
              "      <th>Name</th>\n",
              "      <th>Address</th>\n",
              "      <th>Company</th>\n",
              "      <th>Signal Level</th>\n",
              "      <th>Frequency</th>\n",
              "      <th>Channel</th>\n",
              "      <th>Security</th>\n",
              "      <th>Cipher</th>\n",
              "      <th>BSS Type</th>\n",
              "      <th>WPS Support</th>\n",
              "      <th>Time</th>\n",
              "      <th>Longitude</th>\n",
              "      <th>Latitude</th>\n",
              "      <th>X</th>\n",
              "      <th>Y</th>\n",
              "      <th>Z</th>\n",
              "      <th>MAC</th>\n",
              "    </tr>\n",
              "  </thead>\n",
              "  <tbody>\n",
              "    <tr>\n",
              "      <th>0</th>\n",
              "      <td>BPGC-NAB</td>\n",
              "      <td>70:EA:1A:22:8F:E0</td>\n",
              "      <td>Cisco Systems, Inc</td>\n",
              "      <td>-41</td>\n",
              "      <td>2437</td>\n",
              "      <td>6</td>\n",
              "      <td>None</td>\n",
              "      <td>None</td>\n",
              "      <td>Infrastructure</td>\n",
              "      <td>No</td>\n",
              "      <td>12/02/2020 23:28:27</td>\n",
              "      <td>NaN</td>\n",
              "      <td>NaN</td>\n",
              "      <td>0</td>\n",
              "      <td>6</td>\n",
              "      <td>0</td>\n",
              "      <td>124150763130848</td>\n",
              "    </tr>\n",
              "    <tr>\n",
              "      <th>1</th>\n",
              "      <td>BPGC-NAB</td>\n",
              "      <td>08:4F:A9:10:4B:80</td>\n",
              "      <td>NaN</td>\n",
              "      <td>-49</td>\n",
              "      <td>2462</td>\n",
              "      <td>11</td>\n",
              "      <td>None</td>\n",
              "      <td>None</td>\n",
              "      <td>Infrastructure</td>\n",
              "      <td>No</td>\n",
              "      <td>12/02/2020 23:28:27</td>\n",
              "      <td>NaN</td>\n",
              "      <td>NaN</td>\n",
              "      <td>0</td>\n",
              "      <td>6</td>\n",
              "      <td>0</td>\n",
              "      <td>9138231856000</td>\n",
              "    </tr>\n",
              "    <tr>\n",
              "      <th>2</th>\n",
              "      <td>BPGC-NAB</td>\n",
              "      <td>00:A3:8E:60:F2:A0</td>\n",
              "      <td>Cisco Systems, Inc</td>\n",
              "      <td>-72</td>\n",
              "      <td>2462</td>\n",
              "      <td>11</td>\n",
              "      <td>None</td>\n",
              "      <td>None</td>\n",
              "      <td>Infrastructure</td>\n",
              "      <td>No</td>\n",
              "      <td>12/02/2020 23:28:33</td>\n",
              "      <td>NaN</td>\n",
              "      <td>NaN</td>\n",
              "      <td>0</td>\n",
              "      <td>6</td>\n",
              "      <td>0</td>\n",
              "      <td>702468387488</td>\n",
              "    </tr>\n",
              "    <tr>\n",
              "      <th>3</th>\n",
              "      <td>BPGC-WIFI</td>\n",
              "      <td>40:01:7A:B1:00:40</td>\n",
              "      <td>Cisco Systems, Inc</td>\n",
              "      <td>-70</td>\n",
              "      <td>2462</td>\n",
              "      <td>11</td>\n",
              "      <td>None</td>\n",
              "      <td>None</td>\n",
              "      <td>Infrastructure</td>\n",
              "      <td>No</td>\n",
              "      <td>12/02/2020 23:26:38</td>\n",
              "      <td>NaN</td>\n",
              "      <td>NaN</td>\n",
              "      <td>0</td>\n",
              "      <td>6</td>\n",
              "      <td>0</td>\n",
              "      <td>70375097565248</td>\n",
              "    </tr>\n",
              "    <tr>\n",
              "      <th>4</th>\n",
              "      <td>BPGC-NAB</td>\n",
              "      <td>70:EA:1A:22:A9:A0</td>\n",
              "      <td>Cisco Systems, Inc</td>\n",
              "      <td>-66</td>\n",
              "      <td>2437</td>\n",
              "      <td>6</td>\n",
              "      <td>None</td>\n",
              "      <td>None</td>\n",
              "      <td>Infrastructure</td>\n",
              "      <td>No</td>\n",
              "      <td>12/02/2020 23:30:27</td>\n",
              "      <td>NaN</td>\n",
              "      <td>NaN</td>\n",
              "      <td>0</td>\n",
              "      <td>6</td>\n",
              "      <td>0</td>\n",
              "      <td>124150763137440</td>\n",
              "    </tr>\n",
              "  </tbody>\n",
              "</table>\n",
              "</div>"
            ],
            "text/plain": [
              "        Name            Address             Company  ...  Y  Z              MAC\n",
              "0   BPGC-NAB  70:EA:1A:22:8F:E0  Cisco Systems, Inc  ...  6  0  124150763130848\n",
              "1   BPGC-NAB  08:4F:A9:10:4B:80                 NaN  ...  6  0    9138231856000\n",
              "2   BPGC-NAB  00:A3:8E:60:F2:A0  Cisco Systems, Inc  ...  6  0     702468387488\n",
              "3  BPGC-WIFI  40:01:7A:B1:00:40  Cisco Systems, Inc  ...  6  0   70375097565248\n",
              "4   BPGC-NAB  70:EA:1A:22:A9:A0  Cisco Systems, Inc  ...  6  0  124150763137440\n",
              "\n",
              "[5 rows x 17 columns]"
            ]
          },
          "metadata": {
            "tags": []
          },
          "execution_count": 43
        }
      ]
    },
    {
      "cell_type": "markdown",
      "metadata": {
        "id": "vspobkLu8v-w",
        "colab_type": "text"
      },
      "source": [
        "Check number of unique values of MAC and Address to verify unique mappings"
      ]
    },
    {
      "cell_type": "code",
      "metadata": {
        "id": "MWlIICkt8fmK",
        "colab_type": "code",
        "outputId": "4e2d3ec4-c977-411a-8504-8f0737787c69",
        "colab": {
          "base_uri": "https://localhost:8080/",
          "height": 34
        }
      },
      "source": [
        "if frame.MAC.nunique() == frame.Address.nunique():\n",
        "  print(True)"
      ],
      "execution_count": 44,
      "outputs": [
        {
          "output_type": "stream",
          "text": [
            "True\n"
          ],
          "name": "stdout"
        }
      ]
    },
    {
      "cell_type": "markdown",
      "metadata": {
        "id": "IJQiIzK56Q4R",
        "colab_type": "text"
      },
      "source": [
        "Removing the GPS columns from dataframe and displaying the new dataframe"
      ]
    },
    {
      "cell_type": "code",
      "metadata": {
        "id": "Q0ymT2Ud5fQv",
        "colab_type": "code",
        "outputId": "1c7d7532-86ad-4752-d68c-2b70d23054da",
        "colab": {
          "base_uri": "https://localhost:8080/",
          "height": 204
        }
      },
      "source": [
        "del frame['Longitude']\n",
        "del frame['Latitude']\n",
        "del frame['Cipher']\n",
        "del frame['Company']\n",
        "del frame['Security']\n",
        "del frame['WPS Support']\n",
        "del frame['BSS Type']\n",
        "frame.head()"
      ],
      "execution_count": 45,
      "outputs": [
        {
          "output_type": "execute_result",
          "data": {
            "text/html": [
              "<div>\n",
              "<style scoped>\n",
              "    .dataframe tbody tr th:only-of-type {\n",
              "        vertical-align: middle;\n",
              "    }\n",
              "\n",
              "    .dataframe tbody tr th {\n",
              "        vertical-align: top;\n",
              "    }\n",
              "\n",
              "    .dataframe thead th {\n",
              "        text-align: right;\n",
              "    }\n",
              "</style>\n",
              "<table border=\"1\" class=\"dataframe\">\n",
              "  <thead>\n",
              "    <tr style=\"text-align: right;\">\n",
              "      <th></th>\n",
              "      <th>Name</th>\n",
              "      <th>Address</th>\n",
              "      <th>Signal Level</th>\n",
              "      <th>Frequency</th>\n",
              "      <th>Channel</th>\n",
              "      <th>Time</th>\n",
              "      <th>X</th>\n",
              "      <th>Y</th>\n",
              "      <th>Z</th>\n",
              "      <th>MAC</th>\n",
              "    </tr>\n",
              "  </thead>\n",
              "  <tbody>\n",
              "    <tr>\n",
              "      <th>0</th>\n",
              "      <td>BPGC-NAB</td>\n",
              "      <td>70:EA:1A:22:8F:E0</td>\n",
              "      <td>-41</td>\n",
              "      <td>2437</td>\n",
              "      <td>6</td>\n",
              "      <td>12/02/2020 23:28:27</td>\n",
              "      <td>0</td>\n",
              "      <td>6</td>\n",
              "      <td>0</td>\n",
              "      <td>124150763130848</td>\n",
              "    </tr>\n",
              "    <tr>\n",
              "      <th>1</th>\n",
              "      <td>BPGC-NAB</td>\n",
              "      <td>08:4F:A9:10:4B:80</td>\n",
              "      <td>-49</td>\n",
              "      <td>2462</td>\n",
              "      <td>11</td>\n",
              "      <td>12/02/2020 23:28:27</td>\n",
              "      <td>0</td>\n",
              "      <td>6</td>\n",
              "      <td>0</td>\n",
              "      <td>9138231856000</td>\n",
              "    </tr>\n",
              "    <tr>\n",
              "      <th>2</th>\n",
              "      <td>BPGC-NAB</td>\n",
              "      <td>00:A3:8E:60:F2:A0</td>\n",
              "      <td>-72</td>\n",
              "      <td>2462</td>\n",
              "      <td>11</td>\n",
              "      <td>12/02/2020 23:28:33</td>\n",
              "      <td>0</td>\n",
              "      <td>6</td>\n",
              "      <td>0</td>\n",
              "      <td>702468387488</td>\n",
              "    </tr>\n",
              "    <tr>\n",
              "      <th>3</th>\n",
              "      <td>BPGC-WIFI</td>\n",
              "      <td>40:01:7A:B1:00:40</td>\n",
              "      <td>-70</td>\n",
              "      <td>2462</td>\n",
              "      <td>11</td>\n",
              "      <td>12/02/2020 23:26:38</td>\n",
              "      <td>0</td>\n",
              "      <td>6</td>\n",
              "      <td>0</td>\n",
              "      <td>70375097565248</td>\n",
              "    </tr>\n",
              "    <tr>\n",
              "      <th>4</th>\n",
              "      <td>BPGC-NAB</td>\n",
              "      <td>70:EA:1A:22:A9:A0</td>\n",
              "      <td>-66</td>\n",
              "      <td>2437</td>\n",
              "      <td>6</td>\n",
              "      <td>12/02/2020 23:30:27</td>\n",
              "      <td>0</td>\n",
              "      <td>6</td>\n",
              "      <td>0</td>\n",
              "      <td>124150763137440</td>\n",
              "    </tr>\n",
              "  </tbody>\n",
              "</table>\n",
              "</div>"
            ],
            "text/plain": [
              "        Name            Address  Signal Level  ...  Y  Z              MAC\n",
              "0   BPGC-NAB  70:EA:1A:22:8F:E0           -41  ...  6  0  124150763130848\n",
              "1   BPGC-NAB  08:4F:A9:10:4B:80           -49  ...  6  0    9138231856000\n",
              "2   BPGC-NAB  00:A3:8E:60:F2:A0           -72  ...  6  0     702468387488\n",
              "3  BPGC-WIFI  40:01:7A:B1:00:40           -70  ...  6  0   70375097565248\n",
              "4   BPGC-NAB  70:EA:1A:22:A9:A0           -66  ...  6  0  124150763137440\n",
              "\n",
              "[5 rows x 10 columns]"
            ]
          },
          "metadata": {
            "tags": []
          },
          "execution_count": 45
        }
      ]
    },
    {
      "cell_type": "code",
      "metadata": {
        "id": "i89cZypus8qa",
        "colab_type": "code",
        "colab": {}
      },
      "source": [
        "frame[\"Final\"] = frame[\"MAC\"].astype(str)+frame['X'].astype(str)+frame['Y'].astype(str)+frame['Z'].astype(str)\n",
        "frame[\"Final\"] = frame[\"Final\"].str.replace('-',\"\").astype(int)"
      ],
      "execution_count": 0,
      "outputs": []
    },
    {
      "cell_type": "code",
      "metadata": {
        "id": "VieirF1itlmg",
        "colab_type": "code",
        "outputId": "bfa96cb1-b4ef-4866-c7db-f3533643bf77",
        "colab": {
          "base_uri": "https://localhost:8080/",
          "height": 204
        }
      },
      "source": [
        "frame.head()"
      ],
      "execution_count": 47,
      "outputs": [
        {
          "output_type": "execute_result",
          "data": {
            "text/html": [
              "<div>\n",
              "<style scoped>\n",
              "    .dataframe tbody tr th:only-of-type {\n",
              "        vertical-align: middle;\n",
              "    }\n",
              "\n",
              "    .dataframe tbody tr th {\n",
              "        vertical-align: top;\n",
              "    }\n",
              "\n",
              "    .dataframe thead th {\n",
              "        text-align: right;\n",
              "    }\n",
              "</style>\n",
              "<table border=\"1\" class=\"dataframe\">\n",
              "  <thead>\n",
              "    <tr style=\"text-align: right;\">\n",
              "      <th></th>\n",
              "      <th>Name</th>\n",
              "      <th>Address</th>\n",
              "      <th>Signal Level</th>\n",
              "      <th>Frequency</th>\n",
              "      <th>Channel</th>\n",
              "      <th>Time</th>\n",
              "      <th>X</th>\n",
              "      <th>Y</th>\n",
              "      <th>Z</th>\n",
              "      <th>MAC</th>\n",
              "      <th>Final</th>\n",
              "    </tr>\n",
              "  </thead>\n",
              "  <tbody>\n",
              "    <tr>\n",
              "      <th>0</th>\n",
              "      <td>BPGC-NAB</td>\n",
              "      <td>70:EA:1A:22:8F:E0</td>\n",
              "      <td>-41</td>\n",
              "      <td>2437</td>\n",
              "      <td>6</td>\n",
              "      <td>12/02/2020 23:28:27</td>\n",
              "      <td>0</td>\n",
              "      <td>6</td>\n",
              "      <td>0</td>\n",
              "      <td>124150763130848</td>\n",
              "      <td>124150763130848060</td>\n",
              "    </tr>\n",
              "    <tr>\n",
              "      <th>1</th>\n",
              "      <td>BPGC-NAB</td>\n",
              "      <td>08:4F:A9:10:4B:80</td>\n",
              "      <td>-49</td>\n",
              "      <td>2462</td>\n",
              "      <td>11</td>\n",
              "      <td>12/02/2020 23:28:27</td>\n",
              "      <td>0</td>\n",
              "      <td>6</td>\n",
              "      <td>0</td>\n",
              "      <td>9138231856000</td>\n",
              "      <td>9138231856000060</td>\n",
              "    </tr>\n",
              "    <tr>\n",
              "      <th>2</th>\n",
              "      <td>BPGC-NAB</td>\n",
              "      <td>00:A3:8E:60:F2:A0</td>\n",
              "      <td>-72</td>\n",
              "      <td>2462</td>\n",
              "      <td>11</td>\n",
              "      <td>12/02/2020 23:28:33</td>\n",
              "      <td>0</td>\n",
              "      <td>6</td>\n",
              "      <td>0</td>\n",
              "      <td>702468387488</td>\n",
              "      <td>702468387488060</td>\n",
              "    </tr>\n",
              "    <tr>\n",
              "      <th>3</th>\n",
              "      <td>BPGC-WIFI</td>\n",
              "      <td>40:01:7A:B1:00:40</td>\n",
              "      <td>-70</td>\n",
              "      <td>2462</td>\n",
              "      <td>11</td>\n",
              "      <td>12/02/2020 23:26:38</td>\n",
              "      <td>0</td>\n",
              "      <td>6</td>\n",
              "      <td>0</td>\n",
              "      <td>70375097565248</td>\n",
              "      <td>70375097565248060</td>\n",
              "    </tr>\n",
              "    <tr>\n",
              "      <th>4</th>\n",
              "      <td>BPGC-NAB</td>\n",
              "      <td>70:EA:1A:22:A9:A0</td>\n",
              "      <td>-66</td>\n",
              "      <td>2437</td>\n",
              "      <td>6</td>\n",
              "      <td>12/02/2020 23:30:27</td>\n",
              "      <td>0</td>\n",
              "      <td>6</td>\n",
              "      <td>0</td>\n",
              "      <td>124150763137440</td>\n",
              "      <td>124150763137440060</td>\n",
              "    </tr>\n",
              "  </tbody>\n",
              "</table>\n",
              "</div>"
            ],
            "text/plain": [
              "        Name            Address  ...              MAC               Final\n",
              "0   BPGC-NAB  70:EA:1A:22:8F:E0  ...  124150763130848  124150763130848060\n",
              "1   BPGC-NAB  08:4F:A9:10:4B:80  ...    9138231856000    9138231856000060\n",
              "2   BPGC-NAB  00:A3:8E:60:F2:A0  ...     702468387488     702468387488060\n",
              "3  BPGC-WIFI  40:01:7A:B1:00:40  ...   70375097565248   70375097565248060\n",
              "4   BPGC-NAB  70:EA:1A:22:A9:A0  ...  124150763137440  124150763137440060\n",
              "\n",
              "[5 rows x 11 columns]"
            ]
          },
          "metadata": {
            "tags": []
          },
          "execution_count": 47
        }
      ]
    },
    {
      "cell_type": "code",
      "metadata": {
        "id": "QhaTJEQt9Sdd",
        "colab_type": "code",
        "colab": {}
      },
      "source": [
        "export_csv = frame.to_csv (r'/content/drive/My Drive/newRssiDblock.csv', index = None, header=True)"
      ],
      "execution_count": 0,
      "outputs": []
    },
    {
      "cell_type": "markdown",
      "metadata": {
        "id": "S6fumkUWhw9N",
        "colab_type": "text"
      },
      "source": [
        "# Moving to Plotting"
      ]
    },
    {
      "cell_type": "code",
      "metadata": {
        "trusted": true,
        "id": "fM4y-ErDhw9P",
        "colab_type": "code",
        "outputId": "2f76930b-097e-4ce5-ffaf-d743c15fa6bb",
        "colab": {
          "base_uri": "https://localhost:8080/",
          "height": 262
        }
      },
      "source": [
        "import matplotlib.pyplot as plt\n",
        "\n",
        "plt.scatter(frame['Final'], frame['Signal Level'])\n",
        "plt.xlabel('Final')\n",
        "plt.ylabel('Signal Level')\n",
        "plt.xticks([])\n",
        "plt.show()"
      ],
      "execution_count": 49,
      "outputs": [
        {
          "output_type": "display_data",
          "data": {
            "image/png": "[encoded data removed]",
            "text/plain": [
              "<Figure size 432x288 with 1 Axes>"
            ]
          },
          "metadata": {
            "tags": []
          }
        }
      ]
    },
    {
      "cell_type": "markdown",
      "metadata": {
        "id": "oNgzpDm4hw9W",
        "colab_type": "text"
      },
      "source": [
        "# K-means"
      ]
    },
    {
      "cell_type": "markdown",
      "metadata": {
        "id": "iJKcTDuvhw9Y",
        "colab_type": "text"
      },
      "source": [
        "Making cluster on the basis of 3 features"
      ]
    },
    {
      "cell_type": "code",
      "metadata": {
        "trusted": true,
        "id": "a1ZUSibahw9b",
        "colab_type": "code",
        "outputId": "411fc8e6-4391-4e35-fca1-63ba3055d818",
        "colab": {
          "base_uri": "https://localhost:8080/",
          "height": 68
        }
      },
      "source": [
        "kmeans=KMeans(n_clusters=2)\n",
        "\n",
        "X = frame[[\"Final\",'Signal Level','X','Y','Z']]\n",
        "\n",
        "kmeans.fit(X)"
      ],
      "execution_count": 50,
      "outputs": [
        {
          "output_type": "execute_result",
          "data": {
            "text/plain": [
              "KMeans(algorithm='auto', copy_x=True, init='k-means++', max_iter=300,\n",
              "       n_clusters=2, n_init=10, n_jobs=None, precompute_distances='auto',\n",
              "       random_state=None, tol=0.0001, verbose=0)"
            ]
          },
          "metadata": {
            "tags": []
          },
          "execution_count": 50
        }
      ]
    },
    {
      "cell_type": "markdown",
      "metadata": {
        "id": "8r27h_1WBHg6",
        "colab_type": "text"
      },
      "source": [
        "Getting cluster labels on the basis of prediction"
      ]
    },
    {
      "cell_type": "code",
      "metadata": {
        "id": "UwuBZBbI-k2O",
        "colab_type": "code",
        "colab": {}
      },
      "source": [
        "cluster_label = kmeans.predict(X)"
      ],
      "execution_count": 0,
      "outputs": []
    },
    {
      "cell_type": "markdown",
      "metadata": {
        "id": "5_TPADOlhw9l",
        "colab_type": "text"
      },
      "source": [
        "Checking cluster centroids"
      ]
    },
    {
      "cell_type": "code",
      "metadata": {
        "trusted": true,
        "id": "Y4FbcmXxhw9o",
        "colab_type": "code",
        "outputId": "bc2f0875-2b93-4220-807a-11a1e8bd3668",
        "colab": {
          "base_uri": "https://localhost:8080/",
          "height": 85
        }
      },
      "source": [
        "kmeans.cluster_centers_"
      ],
      "execution_count": 52,
      "outputs": [
        {
          "output_type": "execute_result",
          "data": {
            "text/plain": [
              "array([[ 9.00610011e+16, -7.46995367e+01,  4.53077432e+00,\n",
              "         2.49172733e+00,  4.81138319e-01],\n",
              "       [ 1.28587909e+18, -7.27722222e+01,  1.06055556e+01,\n",
              "         3.35555556e+00,  4.33333333e-01]])"
            ]
          },
          "metadata": {
            "tags": []
          },
          "execution_count": 52
        }
      ]
    },
    {
      "cell_type": "markdown",
      "metadata": {
        "id": "AGnNkxAPhw9w",
        "colab_type": "text"
      },
      "source": [
        "extracting columns of centroids for plotting purposes"
      ]
    },
    {
      "cell_type": "code",
      "metadata": {
        "trusted": true,
        "id": "HVTLiMvHhw9y",
        "colab_type": "code",
        "colab": {}
      },
      "source": [
        "C_x = kmeans.cluster_centers_[:,[2]]\n",
        "C_y = kmeans.cluster_centers_[:,[3]]\n",
        "C_z = kmeans.cluster_centers_[:,[4]]"
      ],
      "execution_count": 0,
      "outputs": []
    },
    {
      "cell_type": "code",
      "metadata": {
        "trusted": true,
        "id": "NZuBO0fGhw97",
        "colab_type": "code",
        "outputId": "ee86563b-d394-478c-c4df-7e31871650d2",
        "colab": {
          "base_uri": "https://localhost:8080/",
          "height": 265
        }
      },
      "source": [
        "from mpl_toolkits.mplot3d import Axes3D\n",
        "fig = plt.figure()\n",
        "ax = fig.add_subplot(111, projection='3d')\n",
        "ax.scatter(frame['X'], frame['Y'], frame['Z'], c='black', marker='o')\n",
        "ax.scatter(C_x, C_y, C_z, marker='*', s=400, c='r')\n",
        "ax.set_xlabel('X')\n",
        "ax.set_ylabel('Y')\n",
        "ax.set_zlabel('Z')"
      ],
      "execution_count": 54,
      "outputs": [
        {
          "output_type": "execute_result",
          "data": {
            "text/plain": [
              "Text(0.5, 0, 'Z')"
            ]
          },
          "metadata": {
            "tags": []
          },
          "execution_count": 54
        },
        {
          "output_type": "display_data",
          "data": {
            "image/png": "[encoded data removed]",
            "text/plain": [
              "<Figure size 432x288 with 1 Axes>"
            ]
          },
          "metadata": {
            "tags": []
          }
        }
      ]
    },
    {
      "cell_type": "markdown",
      "metadata": {
        "id": "uw_m7_NKAN-J",
        "colab_type": "text"
      },
      "source": [
        "Cluster Centers' **MAC addresses**"
      ]
    },
    {
      "cell_type": "code",
      "metadata": {
        "id": "cFD3WKsj_sI2",
        "colab_type": "code",
        "outputId": "fe3a4068-d95e-4f30-e915-d15e516ddfc8",
        "colab": {
          "base_uri": "https://localhost:8080/",
          "height": 51
        }
      },
      "source": [
        "print(kmeans.cluster_centers_[:,[0]])"
      ],
      "execution_count": 55,
      "outputs": [
        {
          "output_type": "stream",
          "text": [
            "[[9.00610011e+16]\n",
            " [1.28587909e+18]]\n"
          ],
          "name": "stdout"
        }
      ]
    },
    {
      "cell_type": "markdown",
      "metadata": {
        "id": "GQnlHkqmAb7L",
        "colab_type": "text"
      },
      "source": [
        "Cluster Centers' **Signal Strength**"
      ]
    },
    {
      "cell_type": "code",
      "metadata": {
        "id": "tIAiH4nR_2Px",
        "colab_type": "code",
        "outputId": "f813282c-ee1b-4dde-df06-0865a2167098",
        "colab": {
          "base_uri": "https://localhost:8080/",
          "height": 51
        }
      },
      "source": [
        "kmeans.cluster_centers_[:,[1]]"
      ],
      "execution_count": 56,
      "outputs": [
        {
          "output_type": "execute_result",
          "data": {
            "text/plain": [
              "array([[-74.69953673],\n",
              "       [-72.77222222]])"
            ]
          },
          "metadata": {
            "tags": []
          },
          "execution_count": 56
        }
      ]
    },
    {
      "cell_type": "markdown",
      "metadata": {
        "id": "Xx-FRGEQAEGR",
        "colab_type": "text"
      },
      "source": [
        "Plotting Signal strength vs Floor"
      ]
    },
    {
      "cell_type": "code",
      "metadata": {
        "id": "mEHWYc_kACvl",
        "colab_type": "code",
        "outputId": "6f4ff30e-63ca-42f2-a491-6ece42e3c68c",
        "colab": {
          "base_uri": "https://localhost:8080/",
          "height": 279
        }
      },
      "source": [
        "plt.scatter(frame['Signal Level'], frame['Z'])\n",
        "plt.scatter(kmeans.cluster_centers_[:,[1]], kmeans.cluster_centers_[:,[4]])\n",
        "plt.xlabel('Signal Level')\n",
        "plt.ylabel('Z')\n",
        "#plt.xticks([])\n",
        "plt.show()"
      ],
      "execution_count": 57,
      "outputs": [
        {
          "output_type": "display_data",
          "data": {
            "image/png": "[encoded data removed]",
            "text/plain": [
              "<Figure size 432x288 with 1 Axes>"
            ]
          },
          "metadata": {
            "tags": []
          }
        }
      ]
    },
    {
      "cell_type": "code",
      "metadata": {
        "id": "zGa5l6pgDxlI",
        "colab_type": "code",
        "outputId": "6132122a-95fe-46ee-e844-73ed9e29728f",
        "colab": {
          "base_uri": "https://localhost:8080/",
          "height": 34
        }
      },
      "source": [
        "print(cluster_label)"
      ],
      "execution_count": 58,
      "outputs": [
        {
          "output_type": "stream",
          "text": [
            "[0 0 0 ... 1 1 0]\n"
          ],
          "name": "stdout"
        }
      ]
    },
    {
      "cell_type": "markdown",
      "metadata": {
        "id": "hSFffbntGSHF",
        "colab_type": "text"
      },
      "source": [
        "Printing in a loop"
      ]
    },
    {
      "cell_type": "code",
      "metadata": {
        "id": "EfXT456TTDjl",
        "colab_type": "code",
        "colab": {}
      },
      "source": [
        "frameCopy = frame"
      ],
      "execution_count": 0,
      "outputs": []
    },
    {
      "cell_type": "code",
      "metadata": {
        "id": "BA6oTDOuTMje",
        "colab_type": "code",
        "colab": {}
      },
      "source": [
        "frameCopy['predictedFloor'] = cluster_label"
      ],
      "execution_count": 0,
      "outputs": []
    },
    {
      "cell_type": "code",
      "metadata": {
        "id": "2R0Om-VQTnfe",
        "colab_type": "code",
        "outputId": "b480507e-8510-4fdd-d8dd-ff80938d960a",
        "colab": {
          "base_uri": "https://localhost:8080/",
          "height": 255
        }
      },
      "source": [
        "print(frameCopy[['Z', 'predictedFloor']])"
      ],
      "execution_count": 61,
      "outputs": [
        {
          "output_type": "stream",
          "text": [
            "      Z  predictedFloor\n",
            "0     0               0\n",
            "1     0               0\n",
            "2     0               0\n",
            "3     0               0\n",
            "4     0               0\n",
            "...  ..             ...\n",
            "1686  1               1\n",
            "1687  1               1\n",
            "1688  1               1\n",
            "1689  1               1\n",
            "1690  1               0\n",
            "\n",
            "[1691 rows x 2 columns]\n"
          ],
          "name": "stdout"
        }
      ]
    },
    {
      "cell_type": "code",
      "metadata": {
        "id": "VcS3AGw_PGUb",
        "colab_type": "code",
        "colab": {}
      },
      "source": [
        "confusion_Matrix = pd.crosstab(frameCopy['Z'], frameCopy['predictedFloor'])"
      ],
      "execution_count": 0,
      "outputs": []
    },
    {
      "cell_type": "code",
      "metadata": {
        "id": "aCqrOnnqY7X4",
        "colab_type": "code",
        "outputId": "871487a0-0205-4348-d7f1-96067a2c5c6e",
        "colab": {
          "base_uri": "https://localhost:8080/",
          "height": 85
        }
      },
      "source": [
        "print(confusion_Matrix)"
      ],
      "execution_count": 63,
      "outputs": [
        {
          "output_type": "stream",
          "text": [
            "predictedFloor    0    1\n",
            "Z                       \n",
            "0               784  102\n",
            "1               727   78\n"
          ],
          "name": "stdout"
        }
      ]
    },
    {
      "cell_type": "code",
      "metadata": {
        "id": "e7QzYaKKRORq",
        "colab_type": "code",
        "outputId": "8742233a-24c5-4e2a-87d4-300c3c33ec3c",
        "colab": {
          "base_uri": "https://localhost:8080/",
          "height": 34
        }
      },
      "source": [
        "tp,tn,fp,fn = confusion_Matrix.iat[1,1],confusion_Matrix.iat[0,0],confusion_Matrix.iat[0,1],confusion_Matrix.iat[1,0]\n",
        "\n",
        "accuracy = (tp+tn)/(tp+tn+fp+fn)\n",
        "\n",
        "print(accuracy*100)"
      ],
      "execution_count": 64,
      "outputs": [
        {
          "output_type": "stream",
          "text": [
            "50.97575399172087\n"
          ],
          "name": "stdout"
        }
      ]
    },
    {
      "cell_type": "markdown",
      "metadata": {
        "id": "eTx6DYHOi0_1",
        "colab_type": "text"
      },
      "source": [
        "# Changing the learning model\n",
        "* **Random Forest Classifier**\n",
        "\n"
      ]
    },
    {
      "cell_type": "markdown",
      "metadata": {
        "id": "N3MizuKKjtFj",
        "colab_type": "text"
      },
      "source": [
        "### Random Forest\n",
        "### *With Validation concept*\n",
        "Preparing Training & Testing set\n",
        "\n"
      ]
    },
    {
      "cell_type": "code",
      "metadata": {
        "id": "29kNjm9mj0oX",
        "colab_type": "code",
        "colab": {}
      },
      "source": [
        "from sklearn.model_selection import train_test_split\n",
        "\n",
        "X = frameCopy[['Signal Level', 'Final','X','Y']]\n",
        "y = frameCopy['Z']\n",
        "\n",
        "train_X, val_X, train_y, val_y = train_test_split(X, y, test_size = 0.3, random_state = 0)"
      ],
      "execution_count": 0,
      "outputs": []
    },
    {
      "cell_type": "code",
      "metadata": {
        "id": "cfT5_OpDl3kI",
        "colab_type": "code",
        "colab": {
          "base_uri": "https://localhost:8080/",
          "height": 68
        },
        "outputId": "309e5763-e6ba-4936-a5d4-3babc7066a0c"
      },
      "source": [
        "print(train_X.shape)\n",
        "print(val_X.shape)\n",
        "print(train_X.columns)"
      ],
      "execution_count": 118,
      "outputs": [
        {
          "output_type": "stream",
          "text": [
            "(1183, 4)\n",
            "(508, 4)\n",
            "Index(['Signal Level', 'Final', 'X', 'Y'], dtype='object')\n"
          ],
          "name": "stdout"
        }
      ]
    },
    {
      "cell_type": "markdown",
      "metadata": {
        "id": "cW1HpzKDn41-",
        "colab_type": "text"
      },
      "source": [
        "Starting Random Forest"
      ]
    },
    {
      "cell_type": "code",
      "metadata": {
        "id": "rnwnF8OKn7OV",
        "colab_type": "code",
        "colab": {}
      },
      "source": [
        "from sklearn.ensemble import RandomForestClassifier"
      ],
      "execution_count": 0,
      "outputs": []
    },
    {
      "cell_type": "code",
      "metadata": {
        "id": "u5MpZeAwoSMD",
        "colab_type": "code",
        "colab": {}
      },
      "source": [
        "model_forest = RandomForestClassifier(max_depth=2, random_state=0)\n",
        "model_forest.fit(train_X, train_y)\n",
        "\n",
        "rf_prediction = model_forest.predict(val_X)"
      ],
      "execution_count": 0,
      "outputs": []
    },
    {
      "cell_type": "code",
      "metadata": {
        "id": "fv810in-vr5F",
        "colab_type": "code",
        "colab": {
          "base_uri": "https://localhost:8080/",
          "height": 85
        },
        "outputId": "1836c341-a5c3-4092-c9ee-6b5f05bcd862"
      },
      "source": [
        "confusion_Matrix_RF = pd.crosstab(val_y, rf_prediction)\n",
        "print(confusion_Matrix_RF)"
      ],
      "execution_count": 121,
      "outputs": [
        {
          "output_type": "stream",
          "text": [
            "col_0    0    1\n",
            "Z              \n",
            "0      244   27\n",
            "1      128  109\n"
          ],
          "name": "stdout"
        }
      ]
    },
    {
      "cell_type": "code",
      "metadata": {
        "id": "2vPKIDqiMik0",
        "colab_type": "code",
        "colab": {
          "base_uri": "https://localhost:8080/",
          "height": 34
        },
        "outputId": "acd56edc-c8bf-4776-fec8-42664ad51037"
      },
      "source": [
        "#tp,tn,fp,fn = confusion_Matrix_RF.iat[1,1],confusion_Matrix_RF.iat[0,0],confusion_Matrix_RF.iat[0,1],confusion_Matrix_RF.iat[1,0]\n",
        "#accuracy = (tp+tn)/(tp+tn+fp+fn)\n",
        "#print(\"Accuracy: \", accuracy*100)\n",
        "\n",
        "nErrors = (val_y != rf_prediction).sum()\n",
        "accuracy = 1.0 - nErrors / val_y.shape[0]\n",
        "print(\"Accuracy: \", accuracy*100)"
      ],
      "execution_count": 122,
      "outputs": [
        {
          "output_type": "stream",
          "text": [
            "Accuracy:  69.48818897637796\n"
          ],
          "name": "stdout"
        }
      ]
    },
    {
      "cell_type": "markdown",
      "metadata": {
        "id": "uMww1ENuO03M",
        "colab_type": "text"
      },
      "source": [
        "### Random Forest\n",
        "### *Without validation concept.*"
      ]
    },
    {
      "cell_type": "code",
      "metadata": {
        "id": "QneI3cIyxBHg",
        "colab_type": "code",
        "colab": {
          "base_uri": "https://localhost:8080/",
          "height": 34
        },
        "outputId": "efdabbc1-90bb-4236-86e4-18be7e6fc454"
      },
      "source": [
        "trainSet, testSet = train_test_split(frame, test_size = 0.3)\n",
        "\n",
        "#model_forest = RandomForestClassifier(max_depth=2, random_state=0)\n",
        "#model_forest.fit(train_X, train_y)\n",
        "\n",
        "trainData = pd.DataFrame.to_numpy(trainSet[['Signal Level', 'Final', 'X', 'Y']])\n",
        "trainTarget = pd.DataFrame.to_numpy(trainSet[['Z']]).ravel()\n",
        "testData = pd.DataFrame.to_numpy(testSet[['Signal Level', 'Final', 'X', 'Y']])\n",
        "testTarget = pd.DataFrame.to_numpy(testSet[['Z']]).ravel()\n",
        "\n",
        "model_forest_2 = RandomForestClassifier(random_state=0)\n",
        "model_forest_2.fit(trainData, trainTarget)\n",
        "\n",
        "predictedValues = model_forest_2.predict(testData)\n",
        "\n",
        "nErrors = (testTarget != predictedValues).sum()\n",
        "accuracy = 1.0 - nErrors / testTarget.shape[0]\n",
        "print(\"Accuracy: \", accuracy*100)"
      ],
      "execution_count": 137,
      "outputs": [
        {
          "output_type": "stream",
          "text": [
            "Accuracy:  73.22834645669292\n"
          ],
          "name": "stdout"
        }
      ]
    },
    {
      "cell_type": "markdown",
      "metadata": {
        "id": "38sfIzLsxLYa",
        "colab_type": "text"
      },
      "source": [
        "# Changing the learning model\n",
        "* **KNN Classifier**\n",
        "\n"
      ]
    },
    {
      "cell_type": "code",
      "metadata": {
        "id": "s07VpbecLINZ",
        "colab_type": "code",
        "colab": {
          "base_uri": "https://localhost:8080/",
          "height": 34
        },
        "outputId": "01338c06-7259-477a-9cb3-f8a4f9064c34"
      },
      "source": [
        "from sklearn.neighbors import KNeighborsClassifier\n",
        "model_knn = KNeighborsClassifier(n_neighbors=3)\n",
        "model_knn.fit(trainData, trainTarget)\n",
        "\n",
        "knn_prediction = model_knn.predict(testData)\n",
        "\n",
        "print(\"Accuracy: \",model_knn.score(testData,testTarget) * 100)\n",
        "#nErrorsKNN = (testTarget != knn_prediction).sum()\n",
        "#accuracy = 1.0 - nErrorsKNN / testTarget.shape[0]\n",
        "#print(\"Accuracy: \", accuracy*100)"
      ],
      "execution_count": 138,
      "outputs": [
        {
          "output_type": "stream",
          "text": [
            "Accuracy:  46.8503937007874\n"
          ],
          "name": "stdout"
        }
      ]
    },
    {
      "cell_type": "markdown",
      "metadata": {
        "id": "JtSAbPjpR4TM",
        "colab_type": "text"
      },
      "source": [
        "# Changing the learning model\n",
        "* **MLP**\n",
        "\n"
      ]
    },
    {
      "cell_type": "code",
      "metadata": {
        "id": "dkfyO0D6R8DC",
        "colab_type": "code",
        "colab": {
          "base_uri": "https://localhost:8080/",
          "height": 34
        },
        "outputId": "cea72c4f-0370-492e-aba0-f043b792fae7"
      },
      "source": [
        "import warnings\n",
        "warnings.filterwarnings(\"ignore\")\n",
        "\n",
        "from sklearn.neural_network import MLPClassifier\n",
        "\n",
        "model_mlp = MLPClassifier(random_state=0)\n",
        "model_mlp.fit(trainData,trainTarget)\n",
        "\n",
        "mlp_prediction = model_mlp.predict(testData)\n",
        "\n",
        "print(\"Accuracy: \", model_mlp.score(testData,testTarget)*100)"
      ],
      "execution_count": 140,
      "outputs": [
        {
          "output_type": "stream",
          "text": [
            "Accuracy:  53.34645669291339\n"
          ],
          "name": "stdout"
        }
      ]
    },
    {
      "cell_type": "markdown",
      "metadata": {
        "id": "AfEUYqi7Yo2p",
        "colab_type": "text"
      },
      "source": [
        "# Changing the learning model\n",
        "* **SVM**\n",
        "\n"
      ]
    },
    {
      "cell_type": "code",
      "metadata": {
        "id": "3kajDQakUsdw",
        "colab_type": "code",
        "colab": {
          "base_uri": "https://localhost:8080/",
          "height": 34
        },
        "outputId": "6f710ff7-754e-4259-cea4-516cfe55bacc"
      },
      "source": [
        "from sklearn.svm import SVC\n",
        "\n",
        "model_svc = SVC(random_state=0)\n",
        "model_svc.fit(trainData,trainTarget)\n",
        "\n",
        "svc_prediction = model_svc.predict(testData)\n",
        "\n",
        "print(\"Accuray: \", model_svc.score(testData,testTarget)*100)"
      ],
      "execution_count": 143,
      "outputs": [
        {
          "output_type": "stream",
          "text": [
            "Accuray:  53.14960629921261\n"
          ],
          "name": "stdout"
        }
      ]
    },
    {
      "cell_type": "markdown",
      "metadata": {
        "id": "6U-Iq7YhaP5e",
        "colab_type": "text"
      },
      "source": [
        "# Changing the learning model\n",
        "* **Stochastic Gradient Descent**\n",
        "\n"
      ]
    },
    {
      "cell_type": "code",
      "metadata": {
        "id": "uiMj467eaQc5",
        "colab_type": "code",
        "colab": {
          "base_uri": "https://localhost:8080/",
          "height": 34
        },
        "outputId": "46babf58-8705-46ee-d34c-48951b986e8a"
      },
      "source": [
        "from sklearn.linear_model import SGDClassifier\n",
        "\n",
        "model_sgdc = SGDClassifier(random_state = 0)\n",
        "model_sgdc.fit(trainData,trainTarget)\n",
        "\n",
        "sgdc_prediction = model_sgdc.predict(testData)\n",
        "\n",
        "print(\"Accuracy: \", model_sgdc.score(testData,testTarget)*100)"
      ],
      "execution_count": 145,
      "outputs": [
        {
          "output_type": "stream",
          "text": [
            "Accuracy:  46.653543307086615\n"
          ],
          "name": "stdout"
        }
      ]
    },
    {
      "cell_type": "markdown",
      "metadata": {
        "id": "v0cFhlKLbd_1",
        "colab_type": "text"
      },
      "source": [
        "# Changing the learning model\n",
        "* **Gaussian Process Classifier**\n",
        "\n"
      ]
    },
    {
      "cell_type": "code",
      "metadata": {
        "id": "bzBQawXea7eS",
        "colab_type": "code",
        "colab": {
          "base_uri": "https://localhost:8080/",
          "height": 34
        },
        "outputId": "6aecc079-05b8-4ba2-bfeb-370b0e1559b8"
      },
      "source": [
        "from sklearn.gaussian_process import GaussianProcessClassifier\n",
        "\n",
        "model_gpc = GaussianProcessClassifier(random_state=0)\n",
        "model_gpc.fit(trainData,trainTarget)\n",
        "\n",
        "gpc_prediction = model_gpc.predict(testData)\n",
        "\n",
        "print(\"Accuracy: \", model_gpc.score(testData,testTarget)*100)"
      ],
      "execution_count": 146,
      "outputs": [
        {
          "output_type": "stream",
          "text": [
            "Accuracy:  43.503937007874015\n"
          ],
          "name": "stdout"
        }
      ]
    },
    {
      "cell_type": "markdown",
      "metadata": {
        "id": "HUxsFbzvcE7H",
        "colab_type": "text"
      },
      "source": [
        "# Changing the learning model\n",
        "* **Decision Tree**\n",
        "\n"
      ]
    },
    {
      "cell_type": "code",
      "metadata": {
        "id": "Dl_G898Pb_sP",
        "colab_type": "code",
        "colab": {
          "base_uri": "https://localhost:8080/",
          "height": 34
        },
        "outputId": "a433f775-3e65-4d3a-a627-900b44483468"
      },
      "source": [
        "from sklearn.tree import DecisionTreeClassifier\n",
        "\n",
        "model_dtc = DecisionTreeClassifier(random_state=0)\n",
        "model_dtc.fit(trainData,trainTarget)\n",
        "\n",
        "dtc_prediction = model_dtc.predict(testData)\n",
        "\n",
        "print(\"Accuracy: \", model_dtc.score(testData,testTarget)*100)"
      ],
      "execution_count": 148,
      "outputs": [
        {
          "output_type": "stream",
          "text": [
            "Accuracy:  73.22834645669292\n"
          ],
          "name": "stdout"
        }
      ]
    },
    {
      "cell_type": "markdown",
      "metadata": {
        "id": "INibTeOkctdk",
        "colab_type": "text"
      },
      "source": [
        "# Changing the learning model\n",
        "* **Gaussian Naive Bayes**\n",
        "\n"
      ]
    },
    {
      "cell_type": "code",
      "metadata": {
        "id": "86Ds84ovcuF2",
        "colab_type": "code",
        "colab": {
          "base_uri": "https://localhost:8080/",
          "height": 34
        },
        "outputId": "a33ff946-46dc-46db-84f3-fb3b2b60f1c8"
      },
      "source": [
        "from sklearn.naive_bayes import GaussianNB\n",
        "\n",
        "model_gnbc = GaussianNB()\n",
        "model_gnbc.fit(trainData,trainTarget)\n",
        "\n",
        "gnbc_prediction = model_gnbc.predict(testData)\n",
        "\n",
        "print(\"Accuracy: \", model_gnbc.score(testData,testTarget)*100)"
      ],
      "execution_count": 150,
      "outputs": [
        {
          "output_type": "stream",
          "text": [
            "Accuracy:  53.34645669291339\n"
          ],
          "name": "stdout"
        }
      ]
    },
    {
      "cell_type": "code",
      "metadata": {
        "id": "M1vbS42JdMXA",
        "colab_type": "code",
        "colab": {}
      },
      "source": [
        ""
      ],
      "execution_count": 0,
      "outputs": []
    }
  ]
}