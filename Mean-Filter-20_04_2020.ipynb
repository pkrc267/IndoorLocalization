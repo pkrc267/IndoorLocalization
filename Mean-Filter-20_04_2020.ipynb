{
  "nbformat": 4,
  "nbformat_minor": 0,
  "metadata": {
    "colab": {
      "name": "20-04-2020.ipynb",
      "provenance": [],
      "collapsed_sections": [],
      "include_colab_link": true
    },
    "kernelspec": {
      "name": "python3",
      "display_name": "Python 3"
    }
  },
  "cells": [
    {
      "cell_type": "markdown",
      "metadata": {
        "id": "view-in-github",
        "colab_type": "text"
      },
      "source": [
        "<a href=\"https://colab.research.google.com/github/pkrc267/IndoorLocalization/blob/master/20_04_2020.ipynb\" target=\"_parent\"><img src=\"https://colab.research.google.com/assets/colab-badge.svg\" alt=\"Open In Colab\"/></a>"
      ]
    },
    {
      "cell_type": "code",
      "metadata": {
        "id": "FwM2zasIl3NH",
        "colab_type": "code",
        "colab": {
          "base_uri": "https://localhost:8080/",
          "height": 71
        },
        "outputId": "04279252-84e6-4556-d2c5-a1e1a6a210f7"
      },
      "source": [
        "import pandas as pd\n",
        "import pandas.testing as tm\n",
        "import numpy as np\n",
        "import matplotlib.pyplot as plt\n",
        "import seaborn as sns\n",
        "from sklearn.cluster import KMeans\n",
        "from sklearn import datasets\n",
        "from io import StringIO\n",
        "\n",
        "from sklearn.tree import export_graphviz\n",
        "from sklearn.model_selection import train_test_split\n",
        "from sklearn import tree\n",
        "from sklearn import metrics"
      ],
      "execution_count": 1,
      "outputs": [
        {
          "output_type": "stream",
          "text": [
            "/usr/local/lib/python3.6/dist-packages/statsmodels/tools/_testing.py:19: FutureWarning: pandas.util.testing is deprecated. Use the functions in the public API at pandas.testing instead.\n",
            "  import pandas.util.testing as tm\n"
          ],
          "name": "stderr"
        }
      ]
    },
    {
      "cell_type": "code",
      "metadata": {
        "id": "4AF_dfdBmkRV",
        "colab_type": "code",
        "colab": {}
      },
      "source": [
        "\n",
        "frame0=pd.read_csv(\"/content/newRssiDblock-4.csv\")"
      ],
      "execution_count": 0,
      "outputs": []
    },
    {
      "cell_type": "markdown",
      "metadata": {
        "id": "eyyBWbRDyQEE",
        "colab_type": "text"
      },
      "source": [
        "## Reading processed data without **'Z'** attribute"
      ]
    },
    {
      "cell_type": "code",
      "metadata": {
        "id": "_HV9eC91n6ND",
        "colab_type": "code",
        "outputId": "a01e81e8-bc0f-485f-8b20-04dcfa623ed4",
        "colab": {
          "base_uri": "https://localhost:8080/",
          "height": 204
        }
      },
      "source": [
        "frame0.head()"
      ],
      "execution_count": 33,
      "outputs": [
        {
          "output_type": "execute_result",
          "data": {
            "text/html": [
              "<div>\n",
              "<style scoped>\n",
              "    .dataframe tbody tr th:only-of-type {\n",
              "        vertical-align: middle;\n",
              "    }\n",
              "\n",
              "    .dataframe tbody tr th {\n",
              "        vertical-align: top;\n",
              "    }\n",
              "\n",
              "    .dataframe thead th {\n",
              "        text-align: right;\n",
              "    }\n",
              "</style>\n",
              "<table border=\"1\" class=\"dataframe\">\n",
              "  <thead>\n",
              "    <tr style=\"text-align: right;\">\n",
              "      <th></th>\n",
              "      <th>Name</th>\n",
              "      <th>Address</th>\n",
              "      <th>Signal Level</th>\n",
              "      <th>X</th>\n",
              "      <th>Y</th>\n",
              "      <th>MAC</th>\n",
              "      <th>Location</th>\n",
              "    </tr>\n",
              "  </thead>\n",
              "  <tbody>\n",
              "    <tr>\n",
              "      <th>0</th>\n",
              "      <td>BPGC-NAB</td>\n",
              "      <td>70:EA:1A:22:8F:E0</td>\n",
              "      <td>-41</td>\n",
              "      <td>20</td>\n",
              "      <td>26</td>\n",
              "      <td>124150763130848</td>\n",
              "      <td>2026</td>\n",
              "    </tr>\n",
              "    <tr>\n",
              "      <th>1</th>\n",
              "      <td>BPGC-NAB</td>\n",
              "      <td>08:4F:A9:10:4B:80</td>\n",
              "      <td>-49</td>\n",
              "      <td>20</td>\n",
              "      <td>26</td>\n",
              "      <td>9138231856000</td>\n",
              "      <td>2026</td>\n",
              "    </tr>\n",
              "    <tr>\n",
              "      <th>2</th>\n",
              "      <td>BPGC-NAB</td>\n",
              "      <td>00:A3:8E:60:F2:A0</td>\n",
              "      <td>-72</td>\n",
              "      <td>20</td>\n",
              "      <td>26</td>\n",
              "      <td>702468387488</td>\n",
              "      <td>2026</td>\n",
              "    </tr>\n",
              "    <tr>\n",
              "      <th>3</th>\n",
              "      <td>BPGC-WIFI</td>\n",
              "      <td>40:01:7A:B1:00:40</td>\n",
              "      <td>-70</td>\n",
              "      <td>20</td>\n",
              "      <td>26</td>\n",
              "      <td>70375097565248</td>\n",
              "      <td>2026</td>\n",
              "    </tr>\n",
              "    <tr>\n",
              "      <th>4</th>\n",
              "      <td>BPGC-NAB</td>\n",
              "      <td>70:EA:1A:22:A9:A0</td>\n",
              "      <td>-66</td>\n",
              "      <td>20</td>\n",
              "      <td>26</td>\n",
              "      <td>124150763137440</td>\n",
              "      <td>2026</td>\n",
              "    </tr>\n",
              "  </tbody>\n",
              "</table>\n",
              "</div>"
            ],
            "text/plain": [
              "        Name            Address  Signal Level  ...   Y              MAC  Location\n",
              "0   BPGC-NAB  70:EA:1A:22:8F:E0           -41  ...  26  124150763130848      2026\n",
              "1   BPGC-NAB  08:4F:A9:10:4B:80           -49  ...  26    9138231856000      2026\n",
              "2   BPGC-NAB  00:A3:8E:60:F2:A0           -72  ...  26     702468387488      2026\n",
              "3  BPGC-WIFI  40:01:7A:B1:00:40           -70  ...  26   70375097565248      2026\n",
              "4   BPGC-NAB  70:EA:1A:22:A9:A0           -66  ...  26  124150763137440      2026\n",
              "\n",
              "[5 rows x 7 columns]"
            ]
          },
          "metadata": {
            "tags": []
          },
          "execution_count": 33
        }
      ]
    },
    {
      "cell_type": "markdown",
      "metadata": {
        "id": "kUy6b-iIJXp2",
        "colab_type": "text"
      },
      "source": [
        "\n",
        "\n",
        "---\n",
        "# Feature Engineering\n",
        "\n",
        "### Filtering out too weak signal strengths\n"
      ]
    },
    {
      "cell_type": "code",
      "metadata": {
        "id": "6llnz1Pu1i5t",
        "colab_type": "code",
        "colab": {
          "base_uri": "https://localhost:8080/",
          "height": 34
        },
        "outputId": "6bfbda60-929c-4e09-cf21-5663a58c4244"
      },
      "source": [
        "location_signalMean = frame0.groupby('Location', as_index=False)['Signal Level'].mean()\n",
        "type(location_signalMean)"
      ],
      "execution_count": 34,
      "outputs": [
        {
          "output_type": "execute_result",
          "data": {
            "text/plain": [
              "pandas.core.frame.DataFrame"
            ]
          },
          "metadata": {
            "tags": []
          },
          "execution_count": 34
        }
      ]
    },
    {
      "cell_type": "code",
      "metadata": {
        "id": "OK15_ySMpop4",
        "colab_type": "code",
        "colab": {}
      },
      "source": [
        "lsm = location_signalMean.copy()"
      ],
      "execution_count": 0,
      "outputs": []
    },
    {
      "cell_type": "code",
      "metadata": {
        "id": "2jWFENpcBraW",
        "colab_type": "code",
        "colab": {
          "base_uri": "https://localhost:8080/",
          "height": 34
        },
        "outputId": "48df9449-4f6c-4144-c0d0-e077346f8df7"
      },
      "source": [
        "frame0.shape"
      ],
      "execution_count": 36,
      "outputs": [
        {
          "output_type": "execute_result",
          "data": {
            "text/plain": [
              "(1691, 7)"
            ]
          },
          "metadata": {
            "tags": []
          },
          "execution_count": 36
        }
      ]
    },
    {
      "cell_type": "code",
      "metadata": {
        "id": "YwK2MzxMltLU",
        "colab_type": "code",
        "colab": {}
      },
      "source": [
        "for i, r1 in lsm.iterrows():\n",
        "  for j, r2 in frame0.iterrows():\n",
        "    if r2['Location'] == r1['Location']:\n",
        "      if (r2['Signal Level'] < (r1['Signal Level'] - 10)):\n",
        "      # if (r2['Signal Level'] < (r1['Signal Level'] - 20)) or (r2['Signal Level'] > (r1['Signal Level'] + 20)):\n",
        "        # print(r2['Signal Level'], \"------\", r1['Signal Level'])\n",
        "        frame0.drop(j, inplace=True)"
      ],
      "execution_count": 0,
      "outputs": []
    },
    {
      "cell_type": "code",
      "metadata": {
        "id": "_cw7pVcUEblu",
        "colab_type": "code",
        "colab": {
          "base_uri": "https://localhost:8080/",
          "height": 34
        },
        "outputId": "163f9c48-7db5-4d40-ccbf-50cefeeca684"
      },
      "source": [
        "frame0.shape"
      ],
      "execution_count": 45,
      "outputs": [
        {
          "output_type": "execute_result",
          "data": {
            "text/plain": [
              "(1222, 7)"
            ]
          },
          "metadata": {
            "tags": []
          },
          "execution_count": 45
        }
      ]
    },
    {
      "cell_type": "markdown",
      "metadata": {
        "id": "_yC8TOXUyqP5",
        "colab_type": "text"
      },
      "source": [
        "### Performing **_One-Hot Encoding_** to create new features out of \"*Categorical data*\""
      ]
    },
    {
      "cell_type": "code",
      "metadata": {
        "id": "xK-d43I0oK8w",
        "colab_type": "code",
        "colab": {}
      },
      "source": [
        "frame = pd.get_dummies(frame0)"
      ],
      "execution_count": 0,
      "outputs": []
    },
    {
      "cell_type": "code",
      "metadata": {
        "id": "TtbDeH5ao-Ch",
        "colab_type": "code",
        "outputId": "31a5db24-ba78-49ec-e360-dd6fb2a57b41",
        "colab": {
          "base_uri": "https://localhost:8080/",
          "height": 275
        }
      },
      "source": [
        "frame.head()"
      ],
      "execution_count": 47,
      "outputs": [
        {
          "output_type": "execute_result",
          "data": {
            "text/html": [
              "<div>\n",
              "<style scoped>\n",
              "    .dataframe tbody tr th:only-of-type {\n",
              "        vertical-align: middle;\n",
              "    }\n",
              "\n",
              "    .dataframe tbody tr th {\n",
              "        vertical-align: top;\n",
              "    }\n",
              "\n",
              "    .dataframe thead th {\n",
              "        text-align: right;\n",
              "    }\n",
              "</style>\n",
              "<table border=\"1\" class=\"dataframe\">\n",
              "  <thead>\n",
              "    <tr style=\"text-align: right;\">\n",
              "      <th></th>\n",
              "      <th>Signal Level</th>\n",
              "      <th>X</th>\n",
              "      <th>Y</th>\n",
              "      <th>MAC</th>\n",
              "      <th>Location</th>\n",
              "      <th>Name_BPGC-LT</th>\n",
              "      <th>Name_BPGC-NAB</th>\n",
              "      <th>Name_BPGC-WIFI</th>\n",
              "      <th>Name_CRT-MIFI</th>\n",
              "      <th>Name_DIRECT-1D-HP DeskJet 2600 series</th>\n",
              "      <th>Name_SAIMAA</th>\n",
              "      <th>Name_TG</th>\n",
              "      <th>Name_bhikkhu</th>\n",
              "      <th>Name_sks</th>\n",
              "      <th>Address_00:A3:8E:4E:29:A0</th>\n",
              "      <th>Address_00:A3:8E:60:F2:A0</th>\n",
              "      <th>Address_04:95:E6:82:45:88</th>\n",
              "      <th>Address_08:4F:A9:10:4B:80</th>\n",
              "      <th>Address_08:4F:A9:2D:77:40</th>\n",
              "      <th>Address_08:4F:A9:2D:8A:40</th>\n",
              "      <th>Address_08:4F:A9:2D:8A:A0</th>\n",
              "      <th>Address_08:4F:A9:30:00:00</th>\n",
              "      <th>Address_08:4F:A9:39:68:20</th>\n",
              "      <th>Address_08:4F:A9:39:68:40</th>\n",
              "      <th>Address_08:4F:A9:39:6A:40</th>\n",
              "      <th>Address_08:4F:A9:43:38:A0</th>\n",
              "      <th>Address_40:01:7A:01:B8:80</th>\n",
              "      <th>Address_40:01:7A:01:B8:8F</th>\n",
              "      <th>Address_40:01:7A:AF:D3:60</th>\n",
              "      <th>Address_40:01:7A:B1:00:40</th>\n",
              "      <th>Address_40:01:7A:C6:A5:60</th>\n",
              "      <th>Address_40:01:7A:CA:3F:AE</th>\n",
              "      <th>Address_60:6D:C7:A3:30:E3</th>\n",
              "      <th>Address_68:3B:78:E9:C0:E0</th>\n",
              "      <th>Address_70:EA:1A:22:87:60</th>\n",
              "      <th>Address_70:EA:1A:22:8F:E0</th>\n",
              "      <th>Address_70:EA:1A:22:92:40</th>\n",
              "      <th>Address_70:EA:1A:22:96:00</th>\n",
              "      <th>Address_70:EA:1A:22:96:20</th>\n",
              "      <th>Address_70:EA:1A:22:96:A0</th>\n",
              "      <th>Address_70:EA:1A:22:97:80</th>\n",
              "      <th>Address_70:EA:1A:22:98:20</th>\n",
              "      <th>Address_70:EA:1A:22:9B:80</th>\n",
              "      <th>Address_70:EA:1A:22:9B:E0</th>\n",
              "      <th>Address_70:EA:1A:22:9F:20</th>\n",
              "      <th>Address_70:EA:1A:22:9F:80</th>\n",
              "      <th>Address_70:EA:1A:22:9F:E0</th>\n",
              "      <th>Address_70:EA:1A:22:A0:20</th>\n",
              "      <th>Address_70:EA:1A:22:A5:A0</th>\n",
              "      <th>Address_70:EA:1A:22:A9:40</th>\n",
              "      <th>Address_70:EA:1A:22:A9:A0</th>\n",
              "      <th>Address_70:EA:1A:22:AC:00</th>\n",
              "      <th>Address_80:14:A8:BE:BB:28</th>\n",
              "      <th>Address_88:63:DF:BB:74:A5</th>\n",
              "      <th>Address_8C:21:A7:E1:4E:22</th>\n",
              "      <th>Address_A8:B4:56:CA:8F:40</th>\n",
              "      <th>Address_A8:B4:56:CC:DE:00</th>\n",
              "      <th>Address_AC:E2:D3:B6:BA:1E</th>\n",
              "    </tr>\n",
              "  </thead>\n",
              "  <tbody>\n",
              "    <tr>\n",
              "      <th>0</th>\n",
              "      <td>-41</td>\n",
              "      <td>20</td>\n",
              "      <td>26</td>\n",
              "      <td>124150763130848</td>\n",
              "      <td>2026</td>\n",
              "      <td>0</td>\n",
              "      <td>1</td>\n",
              "      <td>0</td>\n",
              "      <td>0</td>\n",
              "      <td>0</td>\n",
              "      <td>0</td>\n",
              "      <td>0</td>\n",
              "      <td>0</td>\n",
              "      <td>0</td>\n",
              "      <td>0</td>\n",
              "      <td>0</td>\n",
              "      <td>0</td>\n",
              "      <td>0</td>\n",
              "      <td>0</td>\n",
              "      <td>0</td>\n",
              "      <td>0</td>\n",
              "      <td>0</td>\n",
              "      <td>0</td>\n",
              "      <td>0</td>\n",
              "      <td>0</td>\n",
              "      <td>0</td>\n",
              "      <td>0</td>\n",
              "      <td>0</td>\n",
              "      <td>0</td>\n",
              "      <td>0</td>\n",
              "      <td>0</td>\n",
              "      <td>0</td>\n",
              "      <td>0</td>\n",
              "      <td>0</td>\n",
              "      <td>0</td>\n",
              "      <td>1</td>\n",
              "      <td>0</td>\n",
              "      <td>0</td>\n",
              "      <td>0</td>\n",
              "      <td>0</td>\n",
              "      <td>0</td>\n",
              "      <td>0</td>\n",
              "      <td>0</td>\n",
              "      <td>0</td>\n",
              "      <td>0</td>\n",
              "      <td>0</td>\n",
              "      <td>0</td>\n",
              "      <td>0</td>\n",
              "      <td>0</td>\n",
              "      <td>0</td>\n",
              "      <td>0</td>\n",
              "      <td>0</td>\n",
              "      <td>0</td>\n",
              "      <td>0</td>\n",
              "      <td>0</td>\n",
              "      <td>0</td>\n",
              "      <td>0</td>\n",
              "      <td>0</td>\n",
              "    </tr>\n",
              "    <tr>\n",
              "      <th>1</th>\n",
              "      <td>-49</td>\n",
              "      <td>20</td>\n",
              "      <td>26</td>\n",
              "      <td>9138231856000</td>\n",
              "      <td>2026</td>\n",
              "      <td>0</td>\n",
              "      <td>1</td>\n",
              "      <td>0</td>\n",
              "      <td>0</td>\n",
              "      <td>0</td>\n",
              "      <td>0</td>\n",
              "      <td>0</td>\n",
              "      <td>0</td>\n",
              "      <td>0</td>\n",
              "      <td>0</td>\n",
              "      <td>0</td>\n",
              "      <td>0</td>\n",
              "      <td>1</td>\n",
              "      <td>0</td>\n",
              "      <td>0</td>\n",
              "      <td>0</td>\n",
              "      <td>0</td>\n",
              "      <td>0</td>\n",
              "      <td>0</td>\n",
              "      <td>0</td>\n",
              "      <td>0</td>\n",
              "      <td>0</td>\n",
              "      <td>0</td>\n",
              "      <td>0</td>\n",
              "      <td>0</td>\n",
              "      <td>0</td>\n",
              "      <td>0</td>\n",
              "      <td>0</td>\n",
              "      <td>0</td>\n",
              "      <td>0</td>\n",
              "      <td>0</td>\n",
              "      <td>0</td>\n",
              "      <td>0</td>\n",
              "      <td>0</td>\n",
              "      <td>0</td>\n",
              "      <td>0</td>\n",
              "      <td>0</td>\n",
              "      <td>0</td>\n",
              "      <td>0</td>\n",
              "      <td>0</td>\n",
              "      <td>0</td>\n",
              "      <td>0</td>\n",
              "      <td>0</td>\n",
              "      <td>0</td>\n",
              "      <td>0</td>\n",
              "      <td>0</td>\n",
              "      <td>0</td>\n",
              "      <td>0</td>\n",
              "      <td>0</td>\n",
              "      <td>0</td>\n",
              "      <td>0</td>\n",
              "      <td>0</td>\n",
              "      <td>0</td>\n",
              "    </tr>\n",
              "    <tr>\n",
              "      <th>2</th>\n",
              "      <td>-72</td>\n",
              "      <td>20</td>\n",
              "      <td>26</td>\n",
              "      <td>702468387488</td>\n",
              "      <td>2026</td>\n",
              "      <td>0</td>\n",
              "      <td>1</td>\n",
              "      <td>0</td>\n",
              "      <td>0</td>\n",
              "      <td>0</td>\n",
              "      <td>0</td>\n",
              "      <td>0</td>\n",
              "      <td>0</td>\n",
              "      <td>0</td>\n",
              "      <td>0</td>\n",
              "      <td>1</td>\n",
              "      <td>0</td>\n",
              "      <td>0</td>\n",
              "      <td>0</td>\n",
              "      <td>0</td>\n",
              "      <td>0</td>\n",
              "      <td>0</td>\n",
              "      <td>0</td>\n",
              "      <td>0</td>\n",
              "      <td>0</td>\n",
              "      <td>0</td>\n",
              "      <td>0</td>\n",
              "      <td>0</td>\n",
              "      <td>0</td>\n",
              "      <td>0</td>\n",
              "      <td>0</td>\n",
              "      <td>0</td>\n",
              "      <td>0</td>\n",
              "      <td>0</td>\n",
              "      <td>0</td>\n",
              "      <td>0</td>\n",
              "      <td>0</td>\n",
              "      <td>0</td>\n",
              "      <td>0</td>\n",
              "      <td>0</td>\n",
              "      <td>0</td>\n",
              "      <td>0</td>\n",
              "      <td>0</td>\n",
              "      <td>0</td>\n",
              "      <td>0</td>\n",
              "      <td>0</td>\n",
              "      <td>0</td>\n",
              "      <td>0</td>\n",
              "      <td>0</td>\n",
              "      <td>0</td>\n",
              "      <td>0</td>\n",
              "      <td>0</td>\n",
              "      <td>0</td>\n",
              "      <td>0</td>\n",
              "      <td>0</td>\n",
              "      <td>0</td>\n",
              "      <td>0</td>\n",
              "      <td>0</td>\n",
              "    </tr>\n",
              "    <tr>\n",
              "      <th>3</th>\n",
              "      <td>-70</td>\n",
              "      <td>20</td>\n",
              "      <td>26</td>\n",
              "      <td>70375097565248</td>\n",
              "      <td>2026</td>\n",
              "      <td>0</td>\n",
              "      <td>0</td>\n",
              "      <td>1</td>\n",
              "      <td>0</td>\n",
              "      <td>0</td>\n",
              "      <td>0</td>\n",
              "      <td>0</td>\n",
              "      <td>0</td>\n",
              "      <td>0</td>\n",
              "      <td>0</td>\n",
              "      <td>0</td>\n",
              "      <td>0</td>\n",
              "      <td>0</td>\n",
              "      <td>0</td>\n",
              "      <td>0</td>\n",
              "      <td>0</td>\n",
              "      <td>0</td>\n",
              "      <td>0</td>\n",
              "      <td>0</td>\n",
              "      <td>0</td>\n",
              "      <td>0</td>\n",
              "      <td>0</td>\n",
              "      <td>0</td>\n",
              "      <td>0</td>\n",
              "      <td>1</td>\n",
              "      <td>0</td>\n",
              "      <td>0</td>\n",
              "      <td>0</td>\n",
              "      <td>0</td>\n",
              "      <td>0</td>\n",
              "      <td>0</td>\n",
              "      <td>0</td>\n",
              "      <td>0</td>\n",
              "      <td>0</td>\n",
              "      <td>0</td>\n",
              "      <td>0</td>\n",
              "      <td>0</td>\n",
              "      <td>0</td>\n",
              "      <td>0</td>\n",
              "      <td>0</td>\n",
              "      <td>0</td>\n",
              "      <td>0</td>\n",
              "      <td>0</td>\n",
              "      <td>0</td>\n",
              "      <td>0</td>\n",
              "      <td>0</td>\n",
              "      <td>0</td>\n",
              "      <td>0</td>\n",
              "      <td>0</td>\n",
              "      <td>0</td>\n",
              "      <td>0</td>\n",
              "      <td>0</td>\n",
              "      <td>0</td>\n",
              "    </tr>\n",
              "    <tr>\n",
              "      <th>4</th>\n",
              "      <td>-66</td>\n",
              "      <td>20</td>\n",
              "      <td>26</td>\n",
              "      <td>124150763137440</td>\n",
              "      <td>2026</td>\n",
              "      <td>0</td>\n",
              "      <td>1</td>\n",
              "      <td>0</td>\n",
              "      <td>0</td>\n",
              "      <td>0</td>\n",
              "      <td>0</td>\n",
              "      <td>0</td>\n",
              "      <td>0</td>\n",
              "      <td>0</td>\n",
              "      <td>0</td>\n",
              "      <td>0</td>\n",
              "      <td>0</td>\n",
              "      <td>0</td>\n",
              "      <td>0</td>\n",
              "      <td>0</td>\n",
              "      <td>0</td>\n",
              "      <td>0</td>\n",
              "      <td>0</td>\n",
              "      <td>0</td>\n",
              "      <td>0</td>\n",
              "      <td>0</td>\n",
              "      <td>0</td>\n",
              "      <td>0</td>\n",
              "      <td>0</td>\n",
              "      <td>0</td>\n",
              "      <td>0</td>\n",
              "      <td>0</td>\n",
              "      <td>0</td>\n",
              "      <td>0</td>\n",
              "      <td>0</td>\n",
              "      <td>0</td>\n",
              "      <td>0</td>\n",
              "      <td>0</td>\n",
              "      <td>0</td>\n",
              "      <td>0</td>\n",
              "      <td>0</td>\n",
              "      <td>0</td>\n",
              "      <td>0</td>\n",
              "      <td>0</td>\n",
              "      <td>0</td>\n",
              "      <td>0</td>\n",
              "      <td>0</td>\n",
              "      <td>0</td>\n",
              "      <td>0</td>\n",
              "      <td>0</td>\n",
              "      <td>1</td>\n",
              "      <td>0</td>\n",
              "      <td>0</td>\n",
              "      <td>0</td>\n",
              "      <td>0</td>\n",
              "      <td>0</td>\n",
              "      <td>0</td>\n",
              "      <td>0</td>\n",
              "    </tr>\n",
              "  </tbody>\n",
              "</table>\n",
              "</div>"
            ],
            "text/plain": [
              "   Signal Level   X  ...  Address_A8:B4:56:CC:DE:00  Address_AC:E2:D3:B6:BA:1E\n",
              "0           -41  20  ...                          0                          0\n",
              "1           -49  20  ...                          0                          0\n",
              "2           -72  20  ...                          0                          0\n",
              "3           -70  20  ...                          0                          0\n",
              "4           -66  20  ...                          0                          0\n",
              "\n",
              "[5 rows x 58 columns]"
            ]
          },
          "metadata": {
            "tags": []
          },
          "execution_count": 47
        }
      ]
    },
    {
      "cell_type": "markdown",
      "metadata": {
        "id": "MxS9smKzzK2X",
        "colab_type": "text"
      },
      "source": [
        "### new features help in stronger prediction\n",
        "\n"
      ]
    },
    {
      "cell_type": "code",
      "metadata": {
        "id": "oXqQsRpIm0bT",
        "colab_type": "code",
        "colab": {}
      },
      "source": [
        "from sklearn.ensemble import RandomForestClassifier"
      ],
      "execution_count": 0,
      "outputs": []
    },
    {
      "cell_type": "code",
      "metadata": {
        "id": "9AG5t9dQnCix",
        "colab_type": "code",
        "colab": {}
      },
      "source": [
        "TV=frame.drop(['X','Y'], axis=1)\n",
        "FV=frame.Location\n",
        "TV.fillna(TV.mean, inplace=True)"
      ],
      "execution_count": 0,
      "outputs": []
    },
    {
      "cell_type": "markdown",
      "metadata": {
        "id": "JvXvSB6_0bGx",
        "colab_type": "text"
      },
      "source": [
        "Filled NaN entries with **mean** of corresponding columns"
      ]
    },
    {
      "cell_type": "code",
      "metadata": {
        "id": "fJYX-RJEpkIu",
        "colab_type": "code",
        "outputId": "ea02654c-3669-4a45-c27b-18bec58fd01f",
        "colab": {
          "base_uri": "https://localhost:8080/",
          "height": 275
        }
      },
      "source": [
        "TV.head()"
      ],
      "execution_count": 50,
      "outputs": [
        {
          "output_type": "execute_result",
          "data": {
            "text/html": [
              "<div>\n",
              "<style scoped>\n",
              "    .dataframe tbody tr th:only-of-type {\n",
              "        vertical-align: middle;\n",
              "    }\n",
              "\n",
              "    .dataframe tbody tr th {\n",
              "        vertical-align: top;\n",
              "    }\n",
              "\n",
              "    .dataframe thead th {\n",
              "        text-align: right;\n",
              "    }\n",
              "</style>\n",
              "<table border=\"1\" class=\"dataframe\">\n",
              "  <thead>\n",
              "    <tr style=\"text-align: right;\">\n",
              "      <th></th>\n",
              "      <th>Signal Level</th>\n",
              "      <th>MAC</th>\n",
              "      <th>Location</th>\n",
              "      <th>Name_BPGC-LT</th>\n",
              "      <th>Name_BPGC-NAB</th>\n",
              "      <th>Name_BPGC-WIFI</th>\n",
              "      <th>Name_CRT-MIFI</th>\n",
              "      <th>Name_DIRECT-1D-HP DeskJet 2600 series</th>\n",
              "      <th>Name_SAIMAA</th>\n",
              "      <th>Name_TG</th>\n",
              "      <th>Name_bhikkhu</th>\n",
              "      <th>Name_sks</th>\n",
              "      <th>Address_00:A3:8E:4E:29:A0</th>\n",
              "      <th>Address_00:A3:8E:60:F2:A0</th>\n",
              "      <th>Address_04:95:E6:82:45:88</th>\n",
              "      <th>Address_08:4F:A9:10:4B:80</th>\n",
              "      <th>Address_08:4F:A9:2D:77:40</th>\n",
              "      <th>Address_08:4F:A9:2D:8A:40</th>\n",
              "      <th>Address_08:4F:A9:2D:8A:A0</th>\n",
              "      <th>Address_08:4F:A9:30:00:00</th>\n",
              "      <th>Address_08:4F:A9:39:68:20</th>\n",
              "      <th>Address_08:4F:A9:39:68:40</th>\n",
              "      <th>Address_08:4F:A9:39:6A:40</th>\n",
              "      <th>Address_08:4F:A9:43:38:A0</th>\n",
              "      <th>Address_40:01:7A:01:B8:80</th>\n",
              "      <th>Address_40:01:7A:01:B8:8F</th>\n",
              "      <th>Address_40:01:7A:AF:D3:60</th>\n",
              "      <th>Address_40:01:7A:B1:00:40</th>\n",
              "      <th>Address_40:01:7A:C6:A5:60</th>\n",
              "      <th>Address_40:01:7A:CA:3F:AE</th>\n",
              "      <th>Address_60:6D:C7:A3:30:E3</th>\n",
              "      <th>Address_68:3B:78:E9:C0:E0</th>\n",
              "      <th>Address_70:EA:1A:22:87:60</th>\n",
              "      <th>Address_70:EA:1A:22:8F:E0</th>\n",
              "      <th>Address_70:EA:1A:22:92:40</th>\n",
              "      <th>Address_70:EA:1A:22:96:00</th>\n",
              "      <th>Address_70:EA:1A:22:96:20</th>\n",
              "      <th>Address_70:EA:1A:22:96:A0</th>\n",
              "      <th>Address_70:EA:1A:22:97:80</th>\n",
              "      <th>Address_70:EA:1A:22:98:20</th>\n",
              "      <th>Address_70:EA:1A:22:9B:80</th>\n",
              "      <th>Address_70:EA:1A:22:9B:E0</th>\n",
              "      <th>Address_70:EA:1A:22:9F:20</th>\n",
              "      <th>Address_70:EA:1A:22:9F:80</th>\n",
              "      <th>Address_70:EA:1A:22:9F:E0</th>\n",
              "      <th>Address_70:EA:1A:22:A0:20</th>\n",
              "      <th>Address_70:EA:1A:22:A5:A0</th>\n",
              "      <th>Address_70:EA:1A:22:A9:40</th>\n",
              "      <th>Address_70:EA:1A:22:A9:A0</th>\n",
              "      <th>Address_70:EA:1A:22:AC:00</th>\n",
              "      <th>Address_80:14:A8:BE:BB:28</th>\n",
              "      <th>Address_88:63:DF:BB:74:A5</th>\n",
              "      <th>Address_8C:21:A7:E1:4E:22</th>\n",
              "      <th>Address_A8:B4:56:CA:8F:40</th>\n",
              "      <th>Address_A8:B4:56:CC:DE:00</th>\n",
              "      <th>Address_AC:E2:D3:B6:BA:1E</th>\n",
              "    </tr>\n",
              "  </thead>\n",
              "  <tbody>\n",
              "    <tr>\n",
              "      <th>0</th>\n",
              "      <td>-41</td>\n",
              "      <td>124150763130848</td>\n",
              "      <td>2026</td>\n",
              "      <td>0</td>\n",
              "      <td>1</td>\n",
              "      <td>0</td>\n",
              "      <td>0</td>\n",
              "      <td>0</td>\n",
              "      <td>0</td>\n",
              "      <td>0</td>\n",
              "      <td>0</td>\n",
              "      <td>0</td>\n",
              "      <td>0</td>\n",
              "      <td>0</td>\n",
              "      <td>0</td>\n",
              "      <td>0</td>\n",
              "      <td>0</td>\n",
              "      <td>0</td>\n",
              "      <td>0</td>\n",
              "      <td>0</td>\n",
              "      <td>0</td>\n",
              "      <td>0</td>\n",
              "      <td>0</td>\n",
              "      <td>0</td>\n",
              "      <td>0</td>\n",
              "      <td>0</td>\n",
              "      <td>0</td>\n",
              "      <td>0</td>\n",
              "      <td>0</td>\n",
              "      <td>0</td>\n",
              "      <td>0</td>\n",
              "      <td>0</td>\n",
              "      <td>0</td>\n",
              "      <td>1</td>\n",
              "      <td>0</td>\n",
              "      <td>0</td>\n",
              "      <td>0</td>\n",
              "      <td>0</td>\n",
              "      <td>0</td>\n",
              "      <td>0</td>\n",
              "      <td>0</td>\n",
              "      <td>0</td>\n",
              "      <td>0</td>\n",
              "      <td>0</td>\n",
              "      <td>0</td>\n",
              "      <td>0</td>\n",
              "      <td>0</td>\n",
              "      <td>0</td>\n",
              "      <td>0</td>\n",
              "      <td>0</td>\n",
              "      <td>0</td>\n",
              "      <td>0</td>\n",
              "      <td>0</td>\n",
              "      <td>0</td>\n",
              "      <td>0</td>\n",
              "      <td>0</td>\n",
              "    </tr>\n",
              "    <tr>\n",
              "      <th>1</th>\n",
              "      <td>-49</td>\n",
              "      <td>9138231856000</td>\n",
              "      <td>2026</td>\n",
              "      <td>0</td>\n",
              "      <td>1</td>\n",
              "      <td>0</td>\n",
              "      <td>0</td>\n",
              "      <td>0</td>\n",
              "      <td>0</td>\n",
              "      <td>0</td>\n",
              "      <td>0</td>\n",
              "      <td>0</td>\n",
              "      <td>0</td>\n",
              "      <td>0</td>\n",
              "      <td>0</td>\n",
              "      <td>1</td>\n",
              "      <td>0</td>\n",
              "      <td>0</td>\n",
              "      <td>0</td>\n",
              "      <td>0</td>\n",
              "      <td>0</td>\n",
              "      <td>0</td>\n",
              "      <td>0</td>\n",
              "      <td>0</td>\n",
              "      <td>0</td>\n",
              "      <td>0</td>\n",
              "      <td>0</td>\n",
              "      <td>0</td>\n",
              "      <td>0</td>\n",
              "      <td>0</td>\n",
              "      <td>0</td>\n",
              "      <td>0</td>\n",
              "      <td>0</td>\n",
              "      <td>0</td>\n",
              "      <td>0</td>\n",
              "      <td>0</td>\n",
              "      <td>0</td>\n",
              "      <td>0</td>\n",
              "      <td>0</td>\n",
              "      <td>0</td>\n",
              "      <td>0</td>\n",
              "      <td>0</td>\n",
              "      <td>0</td>\n",
              "      <td>0</td>\n",
              "      <td>0</td>\n",
              "      <td>0</td>\n",
              "      <td>0</td>\n",
              "      <td>0</td>\n",
              "      <td>0</td>\n",
              "      <td>0</td>\n",
              "      <td>0</td>\n",
              "      <td>0</td>\n",
              "      <td>0</td>\n",
              "      <td>0</td>\n",
              "      <td>0</td>\n",
              "      <td>0</td>\n",
              "    </tr>\n",
              "    <tr>\n",
              "      <th>2</th>\n",
              "      <td>-72</td>\n",
              "      <td>702468387488</td>\n",
              "      <td>2026</td>\n",
              "      <td>0</td>\n",
              "      <td>1</td>\n",
              "      <td>0</td>\n",
              "      <td>0</td>\n",
              "      <td>0</td>\n",
              "      <td>0</td>\n",
              "      <td>0</td>\n",
              "      <td>0</td>\n",
              "      <td>0</td>\n",
              "      <td>0</td>\n",
              "      <td>1</td>\n",
              "      <td>0</td>\n",
              "      <td>0</td>\n",
              "      <td>0</td>\n",
              "      <td>0</td>\n",
              "      <td>0</td>\n",
              "      <td>0</td>\n",
              "      <td>0</td>\n",
              "      <td>0</td>\n",
              "      <td>0</td>\n",
              "      <td>0</td>\n",
              "      <td>0</td>\n",
              "      <td>0</td>\n",
              "      <td>0</td>\n",
              "      <td>0</td>\n",
              "      <td>0</td>\n",
              "      <td>0</td>\n",
              "      <td>0</td>\n",
              "      <td>0</td>\n",
              "      <td>0</td>\n",
              "      <td>0</td>\n",
              "      <td>0</td>\n",
              "      <td>0</td>\n",
              "      <td>0</td>\n",
              "      <td>0</td>\n",
              "      <td>0</td>\n",
              "      <td>0</td>\n",
              "      <td>0</td>\n",
              "      <td>0</td>\n",
              "      <td>0</td>\n",
              "      <td>0</td>\n",
              "      <td>0</td>\n",
              "      <td>0</td>\n",
              "      <td>0</td>\n",
              "      <td>0</td>\n",
              "      <td>0</td>\n",
              "      <td>0</td>\n",
              "      <td>0</td>\n",
              "      <td>0</td>\n",
              "      <td>0</td>\n",
              "      <td>0</td>\n",
              "      <td>0</td>\n",
              "      <td>0</td>\n",
              "    </tr>\n",
              "    <tr>\n",
              "      <th>3</th>\n",
              "      <td>-70</td>\n",
              "      <td>70375097565248</td>\n",
              "      <td>2026</td>\n",
              "      <td>0</td>\n",
              "      <td>0</td>\n",
              "      <td>1</td>\n",
              "      <td>0</td>\n",
              "      <td>0</td>\n",
              "      <td>0</td>\n",
              "      <td>0</td>\n",
              "      <td>0</td>\n",
              "      <td>0</td>\n",
              "      <td>0</td>\n",
              "      <td>0</td>\n",
              "      <td>0</td>\n",
              "      <td>0</td>\n",
              "      <td>0</td>\n",
              "      <td>0</td>\n",
              "      <td>0</td>\n",
              "      <td>0</td>\n",
              "      <td>0</td>\n",
              "      <td>0</td>\n",
              "      <td>0</td>\n",
              "      <td>0</td>\n",
              "      <td>0</td>\n",
              "      <td>0</td>\n",
              "      <td>0</td>\n",
              "      <td>1</td>\n",
              "      <td>0</td>\n",
              "      <td>0</td>\n",
              "      <td>0</td>\n",
              "      <td>0</td>\n",
              "      <td>0</td>\n",
              "      <td>0</td>\n",
              "      <td>0</td>\n",
              "      <td>0</td>\n",
              "      <td>0</td>\n",
              "      <td>0</td>\n",
              "      <td>0</td>\n",
              "      <td>0</td>\n",
              "      <td>0</td>\n",
              "      <td>0</td>\n",
              "      <td>0</td>\n",
              "      <td>0</td>\n",
              "      <td>0</td>\n",
              "      <td>0</td>\n",
              "      <td>0</td>\n",
              "      <td>0</td>\n",
              "      <td>0</td>\n",
              "      <td>0</td>\n",
              "      <td>0</td>\n",
              "      <td>0</td>\n",
              "      <td>0</td>\n",
              "      <td>0</td>\n",
              "      <td>0</td>\n",
              "      <td>0</td>\n",
              "    </tr>\n",
              "    <tr>\n",
              "      <th>4</th>\n",
              "      <td>-66</td>\n",
              "      <td>124150763137440</td>\n",
              "      <td>2026</td>\n",
              "      <td>0</td>\n",
              "      <td>1</td>\n",
              "      <td>0</td>\n",
              "      <td>0</td>\n",
              "      <td>0</td>\n",
              "      <td>0</td>\n",
              "      <td>0</td>\n",
              "      <td>0</td>\n",
              "      <td>0</td>\n",
              "      <td>0</td>\n",
              "      <td>0</td>\n",
              "      <td>0</td>\n",
              "      <td>0</td>\n",
              "      <td>0</td>\n",
              "      <td>0</td>\n",
              "      <td>0</td>\n",
              "      <td>0</td>\n",
              "      <td>0</td>\n",
              "      <td>0</td>\n",
              "      <td>0</td>\n",
              "      <td>0</td>\n",
              "      <td>0</td>\n",
              "      <td>0</td>\n",
              "      <td>0</td>\n",
              "      <td>0</td>\n",
              "      <td>0</td>\n",
              "      <td>0</td>\n",
              "      <td>0</td>\n",
              "      <td>0</td>\n",
              "      <td>0</td>\n",
              "      <td>0</td>\n",
              "      <td>0</td>\n",
              "      <td>0</td>\n",
              "      <td>0</td>\n",
              "      <td>0</td>\n",
              "      <td>0</td>\n",
              "      <td>0</td>\n",
              "      <td>0</td>\n",
              "      <td>0</td>\n",
              "      <td>0</td>\n",
              "      <td>0</td>\n",
              "      <td>0</td>\n",
              "      <td>0</td>\n",
              "      <td>0</td>\n",
              "      <td>0</td>\n",
              "      <td>1</td>\n",
              "      <td>0</td>\n",
              "      <td>0</td>\n",
              "      <td>0</td>\n",
              "      <td>0</td>\n",
              "      <td>0</td>\n",
              "      <td>0</td>\n",
              "      <td>0</td>\n",
              "    </tr>\n",
              "  </tbody>\n",
              "</table>\n",
              "</div>"
            ],
            "text/plain": [
              "   Signal Level  ...  Address_AC:E2:D3:B6:BA:1E\n",
              "0           -41  ...                          0\n",
              "1           -49  ...                          0\n",
              "2           -72  ...                          0\n",
              "3           -70  ...                          0\n",
              "4           -66  ...                          0\n",
              "\n",
              "[5 rows x 56 columns]"
            ]
          },
          "metadata": {
            "tags": []
          },
          "execution_count": 50
        }
      ]
    },
    {
      "cell_type": "code",
      "metadata": {
        "id": "GpOz_n18nK-e",
        "colab_type": "code",
        "colab": {}
      },
      "source": [
        "TV_train,TV_test,FV_train,FV_test=train_test_split(TV, FV, test_size=0.1, random_state=1)"
      ],
      "execution_count": 0,
      "outputs": []
    },
    {
      "cell_type": "markdown",
      "metadata": {
        "id": "OC8ILwixHodt",
        "colab_type": "text"
      },
      "source": [
        "\n",
        "\n",
        "---\n",
        "\n",
        "\n",
        "\n",
        "---\n",
        "\n",
        "\n",
        "## Actual Accuracy"
      ]
    },
    {
      "cell_type": "code",
      "metadata": {
        "id": "AWXtQdIdnL2L",
        "colab_type": "code",
        "outputId": "b32f7dac-52c8-4821-f626-460d047745f6",
        "colab": {
          "base_uri": "https://localhost:8080/",
          "height": 34
        }
      },
      "source": [
        "clf = RandomForestClassifier(max_depth=8,random_state=0)\n",
        "clf.fit(TV_train,FV_train)\n",
        "FV_pred = clf.predict(TV_test)\n",
        "print(\"actual Accuracy: \", clf.score(TV_test,FV_test)*100)"
      ],
      "execution_count": 52,
      "outputs": [
        {
          "output_type": "stream",
          "text": [
            "actual Accuracy:  20.32520325203252\n"
          ],
          "name": "stdout"
        }
      ]
    },
    {
      "cell_type": "code",
      "metadata": {
        "id": "KcWifvK5kW2e",
        "colab_type": "code",
        "colab": {}
      },
      "source": [
        "# FV_test.to_numpy()"
      ],
      "execution_count": 0,
      "outputs": []
    },
    {
      "cell_type": "code",
      "metadata": {
        "id": "GYMx8fPznO4J",
        "colab_type": "code",
        "colab": {}
      },
      "source": [
        "original = pd.Series([],dtype='float64')\n",
        "original['x'] = FV_test.to_numpy(copy=True)\n",
        "original['y'] = FV_test.to_numpy(copy=True)\n",
        "# original['z'] = FV_test"
      ],
      "execution_count": 0,
      "outputs": []
    },
    {
      "cell_type": "code",
      "metadata": {
        "id": "060FPVpq2_Bi",
        "colab_type": "code",
        "colab": {}
      },
      "source": [
        "# original['x'].shape\n",
        "# type(original)"
      ],
      "execution_count": 0,
      "outputs": []
    },
    {
      "cell_type": "code",
      "metadata": {
        "id": "9Ug7A7dg4Pdy",
        "colab_type": "code",
        "colab": {}
      },
      "source": [
        "v = FV_test.to_numpy(copy=True)"
      ],
      "execution_count": 0,
      "outputs": []
    },
    {
      "cell_type": "code",
      "metadata": {
        "id": "ozNC8J2aroIw",
        "colab_type": "code",
        "colab": {}
      },
      "source": [
        "# v.size"
      ],
      "execution_count": 0,
      "outputs": []
    },
    {
      "cell_type": "code",
      "metadata": {
        "id": "Q5i2bI_O4WVZ",
        "colab_type": "code",
        "colab": {}
      },
      "source": [
        "# original['x']\n",
        "# FV_test.size"
      ],
      "execution_count": 0,
      "outputs": []
    },
    {
      "cell_type": "code",
      "metadata": {
        "id": "lywBpn22nSRN",
        "colab_type": "code",
        "colab": {}
      },
      "source": [
        "for i in range(0, FV_test.size):\n",
        "  # original['z'][i] = v[i] %100\n",
        "  v[i] = v[i] // 100\n",
        "  original['y'][i] = v[i] %100\n",
        "  v[i] = v[i] // 100\n",
        "  original['x'][i] = v[i] %100\n",
        "  v[i] = v[i] // 100"
      ],
      "execution_count": 0,
      "outputs": []
    },
    {
      "cell_type": "code",
      "metadata": {
        "id": "ybI7nKiFrvwZ",
        "colab_type": "code",
        "colab": {}
      },
      "source": [
        "# original['x'].shape"
      ],
      "execution_count": 0,
      "outputs": []
    },
    {
      "cell_type": "code",
      "metadata": {
        "id": "-UcG4H2JnU5E",
        "colab_type": "code",
        "colab": {}
      },
      "source": [
        "predicted = pd.Series([],dtype='float64')\n",
        "predicted['x'] = FV_pred.copy()\n",
        "predicted['y'] = FV_pred.copy()\n",
        "# predicted['z'] = FV_pred"
      ],
      "execution_count": 0,
      "outputs": []
    },
    {
      "cell_type": "code",
      "metadata": {
        "id": "H7PJUmlruGG6",
        "colab_type": "code",
        "colab": {}
      },
      "source": [
        "for i in range(0,FV_pred.size):\n",
        "  # predicted['z'][i] = FV_pred[i] %100\n",
        "  FV_pred[i] = FV_pred[i] // 100\n",
        "  predicted['y'][i] = FV_pred[i] %100\n",
        "  FV_pred[i] = FV_pred[i] // 100\n",
        "  predicted['x'][i] = FV_pred[i] %100\n",
        "  FV_pred[i] = FV_pred[i] // 100"
      ],
      "execution_count": 0,
      "outputs": []
    },
    {
      "cell_type": "code",
      "metadata": {
        "id": "4GcAShSnsQPR",
        "colab_type": "code",
        "colab": {}
      },
      "source": [
        "# predicted['x'].shape"
      ],
      "execution_count": 0,
      "outputs": []
    },
    {
      "cell_type": "code",
      "metadata": {
        "id": "_VnOJSbO2TTA",
        "colab_type": "code",
        "colab": {}
      },
      "source": [
        "# type(original['x'])"
      ],
      "execution_count": 0,
      "outputs": []
    },
    {
      "cell_type": "code",
      "metadata": {
        "id": "t_jQMtS-nYhw",
        "colab_type": "code",
        "colab": {}
      },
      "source": [
        "def relaxaCheck(predicted, original):\n",
        "  relaxed = original.copy()\n",
        "  for i in range(0, predicted.size):\n",
        "    if predicted[i] in range(original[i]-2, original[i]+2):\n",
        "      relaxed[i] = 1\n",
        "    else:\n",
        "      relaxed[i] = 0\n",
        "  \n",
        "  return relaxed"
      ],
      "execution_count": 0,
      "outputs": []
    },
    {
      "cell_type": "code",
      "metadata": {
        "id": "ZWqZJj3_nbZQ",
        "colab_type": "code",
        "colab": {}
      },
      "source": [
        "relaxed_x = relaxaCheck(predicted['x'], original['x'])#.to_numpy())\n",
        "relaxed_y = relaxaCheck(predicted['y'], original['y'])#.to_numpy())\n",
        "# relaxed_z = relaxaCheck(predicted['z'], original['z'].to_numpy())"
      ],
      "execution_count": 0,
      "outputs": []
    },
    {
      "cell_type": "code",
      "metadata": {
        "id": "unvm1ct72Gjm",
        "colab_type": "code",
        "colab": {}
      },
      "source": [
        "# relaxed_x"
      ],
      "execution_count": 0,
      "outputs": []
    },
    {
      "cell_type": "markdown",
      "metadata": {
        "id": "XA4sHNSrHwWy",
        "colab_type": "text"
      },
      "source": [
        "\n",
        "\n",
        "---\n",
        "## Relaxed Accuracy\n"
      ]
    },
    {
      "cell_type": "code",
      "metadata": {
        "id": "1jrH4505neA2",
        "colab_type": "code",
        "outputId": "ea708377-5073-47ce-ffa0-9694e26d54fa",
        "colab": {
          "base_uri": "https://localhost:8080/",
          "height": 34
        }
      },
      "source": [
        "c=0\n",
        "for i in range(0, relaxed_x.size):\n",
        "  if relaxed_x[i] == relaxed_y[i] == 1: #relaxed_z[i] == 1:\n",
        "    c+=1\n",
        "\n",
        "print(100*c/relaxed_x.size)"
      ],
      "execution_count": 68,
      "outputs": [
        {
          "output_type": "stream",
          "text": [
            "71.54471544715447\n"
          ],
          "name": "stdout"
        }
      ]
    },
    {
      "cell_type": "code",
      "metadata": {
        "id": "6GlwII-TngtR",
        "colab_type": "code",
        "colab": {}
      },
      "source": [
        ""
      ],
      "execution_count": 0,
      "outputs": []
    }
  ]
}
